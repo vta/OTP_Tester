{
 "cells": [
  {
   "cell_type": "markdown",
   "metadata": {},
   "source": [
    "Notebook to test OTP configuration.\n",
    "Written by Vivek\n",
    "Started July 7th, 2016\n",
    "\n",
    "We need to test the different parameters like bike and walk, etc.  Build functions that test numerous locations, settings, and generate times.\n",
    "\n",
    "Current Todos:\n",
    "\n",
    "TODO: Geocode Addresses into GPS using Google\n",
    "\n",
    "TODO: Push resulting data into pandas dataframe"
   ]
  },
  {
   "cell_type": "code",
   "execution_count": 14,
   "metadata": {
    "collapsed": false
   },
   "outputs": [],
   "source": [
    "from datetime import datetime\n",
    "import requests\n",
    "import json\n",
    "import pandas as pd\n",
    "import numpy as np"
   ]
  },
  {
   "cell_type": "markdown",
   "metadata": {},
   "source": [
    "Sample Api Call:\n",
    "http://vta2.amigocloud.com/api/otp/plan?date=2016-07-07&time=23%3A0&mode=WALK%2CBUSISH%2CTRAINISH&fromPlace=37.389268%2C-121.879746&toPlace=37.4031595%2C-121.9865994&numItineraries=3&maxWalkDistance=5000&bikeSpeed=10&walkReluctance=10&maxTransfers=5&triangleSlopeFactor=0.333&triangleSafetyFactor=0.333&triangleTimeFactor=0.334&optimize=TRIANGLE&arriveBy=false"
   ]
  },
  {
   "cell_type": "markdown",
   "metadata": {},
   "source": [
    "http://vta2.amigocloud.com/api/otp/plan?mode=WALK%2CBUSISH%2CTRAINISH&fromPlace=37.4002813%2C-121.9396906&toPlace=37.326763%2C-121.856533&numItineraries=3&maxWalkDistance=5000&bikeSpeed=10&walkReluctance=15&maxTransfers=5&triangleSlopeFactor=0.333&triangleSafetyFactor=0.333&triangleTimeFactor=0.334&optimize=TRIANGLE"
   ]
  },
  {
   "cell_type": "code",
   "execution_count": 127,
   "metadata": {
    "collapsed": true
   },
   "outputs": [],
   "source": [
    "def print_transit(query_json):\n",
    "    for a in query_json['plan']['itineraries']:\n",
    "        print('start: '+ tclean(a['startTime']))\n",
    "        print('end: '+ tclean(a['endTime']))\n",
    "        print('duration: '+ str(a['duration']/60) + ' minutes')\n",
    "        print('waitingTime: '+ str(a['waitingTime']/60) + ' minutes')\n",
    "        print('transitTime: '+ str(a['transitTime']/60) + ' minutes')\n",
    "        print('walkDistance: '+ str(a['walkDistance']/1000*.621371) + ' miles')\n",
    "        print('transfers: '+ str(a['transfers']))\n",
    "        for each in a['legs']:\n",
    "            print('   ' + each['from']['name'])\n",
    "            print('   StartTime: '+ tclean(each['startTime']) + \" mode: \" + each['mode'])\n",
    "            print(\"   headsign: \" + str(each.get('headsign')))\n",
    "            print('   endTime:   ' + tclean(each['endTime']) + \" duration: \" + str(each['duration']/60))    "
   ]
  },
  {
   "cell_type": "code",
   "execution_count": 434,
   "metadata": {
    "collapsed": false
   },
   "outputs": [],
   "source": [
    "rand_starts=pd.read_csv('Rand_Starts.csv')\n",
    "rand_dests=pd.read_csv('Rand_Dests.csv')\n",
    "known_starts=pd.read_csv('Known_Starts.csv')\n",
    "known_dests=pd.read_csv('Known_Dests.csv')\n",
    "\n",
    "df = pd.DataFrame();\n",
    "\n",
    "#df['start_lat'] = rand_starts['Lat']\n",
    "#df['start_long'] = rand_starts['Long']\n",
    "#df['dest_lat'] = rand_dests['Lat']\n",
    "#df['dest_long'] = rand_dests['Long']\n",
    "\n",
    "df['start_lat'] = known_starts['Lat']\n",
    "df['start_long'] = known_starts['Long']\n",
    "df['start_loc']= known_starts['Desc']\n",
    "df['dest_lat'] = known_dests['Lat']\n",
    "df['dest_long'] = known_dests['Long']\n",
    "df['dest_loc'] = known_dests['Desc']"
   ]
  },
  {
   "cell_type": "code",
   "execution_count": 435,
   "metadata": {
    "collapsed": true
   },
   "outputs": [],
   "source": [
    "def tclean(dto):\n",
    "    return str(datetime.fromtimestamp(dto/1000))"
   ]
  },
  {
   "cell_type": "code",
   "execution_count": 437,
   "metadata": {
    "collapsed": false
   },
   "outputs": [
    {
     "data": {
      "text/html": [
       "<div>\n",
       "<table border=\"1\" class=\"dataframe\">\n",
       "  <thead>\n",
       "    <tr style=\"text-align: right;\">\n",
       "      <th></th>\n",
       "      <th>start_lat</th>\n",
       "      <th>start_long</th>\n",
       "      <th>start_loc</th>\n",
       "      <th>dest_lat</th>\n",
       "      <th>dest_long</th>\n",
       "      <th>dest_loc</th>\n",
       "    </tr>\n",
       "  </thead>\n",
       "  <tbody>\n",
       "    <tr>\n",
       "      <th>0</th>\n",
       "      <td>37.394535</td>\n",
       "      <td>-121.868908</td>\n",
       "      <td>Capitol Avenue @ Camino del Rey, San Jose Park...</td>\n",
       "      <td>37.400281</td>\n",
       "      <td>-121.939691</td>\n",
       "      <td>3331 N. 1st St VTA</td>\n",
       "    </tr>\n",
       "    <tr>\n",
       "      <th>1</th>\n",
       "      <td>37.400281</td>\n",
       "      <td>-121.939691</td>\n",
       "      <td>3331 N. 1st St VTA</td>\n",
       "      <td>37.331997</td>\n",
       "      <td>-121.887286</td>\n",
       "      <td>Fairmont San Jose</td>\n",
       "    </tr>\n",
       "    <tr>\n",
       "      <th>2</th>\n",
       "      <td>37.400787</td>\n",
       "      <td>-121.868619</td>\n",
       "      <td>1684 Garvey Pl</td>\n",
       "      <td>37.400281</td>\n",
       "      <td>-121.939691</td>\n",
       "      <td>3331 N. 1st St VTA</td>\n",
       "    </tr>\n",
       "    <tr>\n",
       "      <th>3</th>\n",
       "      <td>37.400281</td>\n",
       "      <td>-121.939691</td>\n",
       "      <td>3331 N. 1st St VTA</td>\n",
       "      <td>37.333539</td>\n",
       "      <td>-121.885089</td>\n",
       "      <td>116 Paseo De San Antonio Walk, San Jose, CA 95...</td>\n",
       "    </tr>\n",
       "    <tr>\n",
       "      <th>4</th>\n",
       "      <td>37.397893</td>\n",
       "      <td>-121.868478</td>\n",
       "      <td>2755 Lucena Dr, San Jose, CA 95132, USA</td>\n",
       "      <td>37.400281</td>\n",
       "      <td>-121.939691</td>\n",
       "      <td>3331 N. 1st St VTA</td>\n",
       "    </tr>\n",
       "  </tbody>\n",
       "</table>\n",
       "</div>"
      ],
      "text/plain": [
       "   start_lat  start_long                                          start_loc  \\\n",
       "0  37.394535 -121.868908  Capitol Avenue @ Camino del Rey, San Jose Park...   \n",
       "1  37.400281 -121.939691                                 3331 N. 1st St VTA   \n",
       "2  37.400787 -121.868619                                     1684 Garvey Pl   \n",
       "3  37.400281 -121.939691                                 3331 N. 1st St VTA   \n",
       "4  37.397893 -121.868478            2755 Lucena Dr, San Jose, CA 95132, USA   \n",
       "\n",
       "    dest_lat   dest_long                                           dest_loc  \n",
       "0  37.400281 -121.939691                                 3331 N. 1st St VTA  \n",
       "1  37.331997 -121.887286                                  Fairmont San Jose  \n",
       "2  37.400281 -121.939691                                 3331 N. 1st St VTA  \n",
       "3  37.333539 -121.885089  116 Paseo De San Antonio Walk, San Jose, CA 95...  \n",
       "4  37.400281 -121.939691                                 3331 N. 1st St VTA  "
      ]
     },
     "execution_count": 437,
     "metadata": {},
     "output_type": "execute_result"
    }
   ],
   "source": [
    "df.head()\n",
    "#Random From and To pints"
   ]
  },
  {
   "cell_type": "code",
   "execution_count": 238,
   "metadata": {
    "collapsed": false
   },
   "outputs": [
    {
     "name": "stdout",
     "output_type": "stream",
     "text": [
      "start: 2016-07-14 07:00:29\n",
      "end: 2016-07-14 07:32:11\n",
      "duration: 31.7 minutes\n",
      "waitingTime: 0.03333333333333333 minutes\n",
      "transitTime: 24.666666666666668 minutes\n",
      "walkDistance: 0.32753311969287974 miles\n",
      "transfers: 0\n",
      "   parking aisle\n",
      "   StartTime: 2016-07-14 07:00:29 mode: WALK\n",
      "   headsign: None\n",
      "   endTime:   2016-07-14 07:04:49 duration: 4.333333333333333\n",
      "   RIVER OAKS STATION (1)\n",
      "   StartTime: 2016-07-14 07:04:50 mode: TRAM\n",
      "   headsign: SANTA TERESA\n",
      "   endTime:   2016-07-14 07:29:30 duration: 24.666666666666668\n",
      "   SAN ANTONIO STATION (1)\n",
      "   StartTime: 2016-07-14 07:29:31 mode: WALK\n",
      "   headsign: None\n",
      "   endTime:   2016-07-14 07:32:11 duration: 2.6666666666666665\n",
      "start: 2016-07-14 07:10:29\n",
      "end: 2016-07-14 07:42:11\n",
      "duration: 31.7 minutes\n",
      "waitingTime: 0.03333333333333333 minutes\n",
      "transitTime: 24.666666666666668 minutes\n",
      "walkDistance: 0.32753311969287974 miles\n",
      "transfers: 0\n",
      "   parking aisle\n",
      "   StartTime: 2016-07-14 07:10:29 mode: WALK\n",
      "   headsign: None\n",
      "   endTime:   2016-07-14 07:14:49 duration: 4.333333333333333\n",
      "   RIVER OAKS STATION (1)\n",
      "   StartTime: 2016-07-14 07:14:50 mode: TRAM\n",
      "   headsign: WINCHESTER\n",
      "   endTime:   2016-07-14 07:39:30 duration: 24.666666666666668\n",
      "   SAN ANTONIO STATION (1)\n",
      "   StartTime: 2016-07-14 07:39:31 mode: WALK\n",
      "   headsign: None\n",
      "   endTime:   2016-07-14 07:42:11 duration: 2.6666666666666665\n",
      "start: 2016-07-14 07:00:00\n",
      "end: 2016-07-14 08:57:19\n",
      "duration: 117.31666666666666 minutes\n",
      "waitingTime: 0.0 minutes\n",
      "transitTime: 0.0 minutes\n",
      "walkDistance: 5.678863837191464 miles\n",
      "transfers: 0\n",
      "   parking aisle\n",
      "   StartTime: 2016-07-14 07:00:00 mode: WALK\n",
      "   headsign: None\n",
      "   endTime:   2016-07-14 08:57:19 duration: 117.31666666666666\n",
      "start: 2016-07-14 07:07:38\n",
      "end: 2016-07-14 09:10:44\n",
      "duration: 123.1 minutes\n",
      "waitingTime: 0.03333333333333333 minutes\n",
      "transitTime: 1.1333333333333333 minutes\n",
      "walkDistance: 5.91543031216304 miles\n",
      "transfers: 0\n",
      "   parking aisle\n",
      "   StartTime: 2016-07-14 07:07:38 mode: WALK\n",
      "   headsign: None\n",
      "   endTime:   2016-07-14 08:51:07 duration: 103.48333333333333\n",
      "   7TH & WASHINGTON\n",
      "   StartTime: 2016-07-14 08:51:08 mode: BUS\n",
      "   headsign: 65 KOOSER & BLOSSOM HILL\n",
      "   endTime:   2016-07-14 08:52:16 duration: 1.1333333333333333\n",
      "   7TH & JULIAN\n",
      "   StartTime: 2016-07-14 08:52:17 mode: WALK\n",
      "   headsign: None\n",
      "   endTime:   2016-07-14 09:10:44 duration: 18.45\n"
     ]
    }
   ],
   "source": [
    "#https://github.com/opentripplanner/OpenTripPlanner/blob/257ac13150b40942fdae4812007545a66546d7da/src/main/java/org/opentripplanner/routing/core/RoutingRequest.java\n",
    "row = 3\n",
    "payload = {}\n",
    "payload.update({'fromPlace': '%s,%s' % (df['start_lat'][row],df['start_long'][row])})\n",
    "payload.update({'toPlace': '%s, %s' % (df['dest_lat'][row], + df['dest_long'][row])})\n",
    "payload.update({'mode':'WALK,BUSISH,TRAINISH'})\n",
    "payload.update({'date':'2016-07-14'})\n",
    "payload.update({'time':'07:00'})\n",
    "payload.update({'maxTransfers':3,'optimize':'QUICK'})\n",
    "payload.update({'numItineraries':5})\n",
    "payload.update({'maxWalkDistance':5000})\n",
    "payload.update({'bikeSpeed':5})\n",
    "payload.update({'arriveBy':'false'})\n",
    "payload.update({'waitAtBeginning':5.95})\n",
    "payload.update({'walkReluctance':12})\n",
    "payload.update({'maxPreTransitTime':100})\n",
    "\n",
    "r = requests.get('http://vta2.amigocloud.com/api/otp/plan?', params=payload)\n",
    "#r.text\n",
    "print_transit(r.json())"
   ]
  },
  {
   "cell_type": "code",
   "execution_count": 443,
   "metadata": {
    "collapsed": false
   },
   "outputs": [
    {
     "name": "stdout",
     "output_type": "stream",
     "text": [
      "start: 2016-07-14 07:12:07\n",
      "end: 2016-07-14 08:02:41\n",
      "duration: 50.56666666666667 minutes\n",
      "waitingTime: 0.03333333333333333 minutes\n",
      "transitTime: 40.166666666666664 minutes\n",
      "walkDistance: 0.232350080293793 miles\n",
      "transfers: 0\n",
      "   Start point 0.0430995197605577\n",
      "   StartTime: 2016-07-14 07:12:07 mode: CAR\n",
      "   headsign: None\n",
      "   endTime:   2016-07-14 07:17:30 duration: 5.383333333333334\n",
      "   corner of path and service road\n",
      "   StartTime: 2016-07-14 07:17:30 mode: WALK\n",
      "   headsign: None\n",
      "   endTime:   2016-07-14 07:17:59 duration: 0.48333333333333334\n",
      "   OHLONE-CHYNOWETH STATION (0)\n",
      "   StartTime: 2016-07-14 07:18:00 mode: TRAM\n",
      "   headsign: ALUM ROCK\n",
      "   endTime:   2016-07-14 07:58:10 duration: 40.166666666666664\n",
      "   RIVER OAKS STATION (0)\n",
      "   StartTime: 2016-07-14 07:58:11 mode: WALK\n",
      "   headsign: None\n",
      "   endTime:   2016-07-14 08:02:41 duration: 4.5\n",
      "start: 2016-07-14 07:25:07\n",
      "end: 2016-07-14 08:11:41\n",
      "duration: 46.56666666666667 minutes\n",
      "waitingTime: 0.03333333333333333 minutes\n",
      "transitTime: 36.166666666666664 minutes\n",
      "walkDistance: 0.232350080293793 miles\n",
      "transfers: 0\n",
      "   Start point 0.0430995197605577\n",
      "   StartTime: 2016-07-14 07:25:07 mode: CAR\n",
      "   headsign: None\n",
      "   endTime:   2016-07-14 07:30:30 duration: 5.383333333333334\n",
      "   corner of path and service road\n",
      "   StartTime: 2016-07-14 07:30:30 mode: WALK\n",
      "   headsign: None\n",
      "   endTime:   2016-07-14 07:30:59 duration: 0.48333333333333334\n",
      "   OHLONE-CHYNOWETH STATION (0)\n",
      "   StartTime: 2016-07-14 07:31:00 mode: TRAM\n",
      "   headsign: EXPRESS EXPRESS BAYPOINTE\n",
      "   endTime:   2016-07-14 08:07:10 duration: 36.166666666666664\n",
      "   RIVER OAKS STATION (0)\n",
      "   StartTime: 2016-07-14 08:07:11 mode: WALK\n",
      "   headsign: None\n",
      "   endTime:   2016-07-14 08:11:41 duration: 4.5\n",
      "start: 2016-07-14 07:27:07\n",
      "end: 2016-07-14 08:17:41\n",
      "duration: 50.56666666666667 minutes\n",
      "waitingTime: 0.03333333333333333 minutes\n",
      "transitTime: 40.166666666666664 minutes\n",
      "walkDistance: 0.232350080293793 miles\n",
      "transfers: 0\n",
      "   Start point 0.0430995197605577\n",
      "   StartTime: 2016-07-14 07:27:07 mode: CAR\n",
      "   headsign: None\n",
      "   endTime:   2016-07-14 07:32:30 duration: 5.383333333333334\n",
      "   corner of path and service road\n",
      "   StartTime: 2016-07-14 07:32:30 mode: WALK\n",
      "   headsign: None\n",
      "   endTime:   2016-07-14 07:32:59 duration: 0.48333333333333334\n",
      "   OHLONE-CHYNOWETH STATION (0)\n",
      "   StartTime: 2016-07-14 07:33:00 mode: TRAM\n",
      "   headsign: ALUM ROCK\n",
      "   endTime:   2016-07-14 08:13:10 duration: 40.166666666666664\n",
      "   RIVER OAKS STATION (0)\n",
      "   StartTime: 2016-07-14 08:13:11 mode: WALK\n",
      "   headsign: None\n",
      "   endTime:   2016-07-14 08:17:41 duration: 4.5\n",
      "start: 2016-07-14 07:27:15\n",
      "end: 2016-07-14 08:36:41\n",
      "duration: 69.43333333333334 minutes\n",
      "waitingTime: 3.3666666666666667 minutes\n",
      "transitTime: 59.916666666666664 minutes\n",
      "walkDistance: 0.2540993687715229 miles\n",
      "transfers: 1\n",
      "   Start point 0.0430995197605577\n",
      "   StartTime: 2016-07-14 07:27:15 mode: CAR\n",
      "   headsign: None\n",
      "   endTime:   2016-07-14 07:27:59 duration: 0.7333333333333333\n",
      "   ALMADEN & FOXCHASE\n",
      "   StartTime: 2016-07-14 07:28:00 mode: BUS\n",
      "   headsign: 64 MCKEE & WHITE\n",
      "   endTime:   2016-07-14 07:58:45 duration: 30.75\n",
      "   SAN FERNANDO & DELMAS\n",
      "   StartTime: 2016-07-14 07:58:45 mode: WALK\n",
      "   headsign: None\n",
      "   endTime:   2016-07-14 07:59:40 duration: 0.9166666666666666\n",
      "   SAN FERNANDO STATION (0)\n",
      "   StartTime: 2016-07-14 08:03:00 mode: TRAM\n",
      "   headsign: MOUNTAIN VIEW\n",
      "   endTime:   2016-07-14 08:32:10 duration: 29.166666666666668\n",
      "   RIVER OAKS STATION (0)\n",
      "   StartTime: 2016-07-14 08:32:11 mode: WALK\n",
      "   headsign: None\n",
      "   endTime:   2016-07-14 08:36:41 duration: 4.5\n",
      "start: 2016-07-14 08:00:15\n",
      "end: 2016-07-14 09:06:41\n",
      "duration: 66.43333333333334 minutes\n",
      "waitingTime: 0.36666666666666664 minutes\n",
      "transitTime: 59.916666666666664 minutes\n",
      "walkDistance: 0.2540993687715229 miles\n",
      "transfers: 1\n",
      "   Start point 0.0430995197605577\n",
      "   StartTime: 2016-07-14 08:00:15 mode: CAR\n",
      "   headsign: None\n",
      "   endTime:   2016-07-14 08:00:59 duration: 0.7333333333333333\n",
      "   ALMADEN & FOXCHASE\n",
      "   StartTime: 2016-07-14 08:01:00 mode: BUS\n",
      "   headsign: 64 MCKEE & WHITE\n",
      "   endTime:   2016-07-14 08:31:45 duration: 30.75\n",
      "   SAN FERNANDO & DELMAS\n",
      "   StartTime: 2016-07-14 08:31:45 mode: WALK\n",
      "   headsign: None\n",
      "   endTime:   2016-07-14 08:32:40 duration: 0.9166666666666666\n",
      "   SAN FERNANDO STATION (0)\n",
      "   StartTime: 2016-07-14 08:33:00 mode: TRAM\n",
      "   headsign: MOUNTAIN VIEW\n",
      "   endTime:   2016-07-14 09:02:10 duration: 29.166666666666668\n",
      "   RIVER OAKS STATION (0)\n",
      "   StartTime: 2016-07-14 09:02:11 mode: WALK\n",
      "   headsign: None\n",
      "   endTime:   2016-07-14 09:06:41 duration: 4.5\n"
     ]
    }
   ],
   "source": [
    "#for each in range(1,59):\n",
    "    #print(each)\n",
    "row = 7\n",
    "payload = {}\n",
    "\n",
    "#walkReluctance=[0,10,20,100]\n",
    "#time = [1,2,3,4,5]\n",
    "#maxWalk\n",
    "payload.update({'date':'2016-07-14'})\n",
    "payload.update({'time':'07:00'})\n",
    "payload.update({'maxTransfers':3,'optimize':'QUICK'})\n",
    "payload.update({'fromPlace': '%s,%s' % (df['start_lat'][row],df['start_long'][row])})\n",
    "payload.update({'toPlace': '%s, %s' % (df['dest_lat'][row], + df['dest_long'][row])})\n",
    "#https://github.com/opentripplanner/OpenTripPlanner/blob/257ac13150b40942fdae4812007545a66546d7da/src/main/java/org/opentripplanner/routing/core/TraverseModeSet.java\n",
    "#payload.update({'mode':'WALK,TRAINISH'})\n",
    "#payload.update({'mode':'WALK,TRAM'})\n",
    "#payload.update({'mode':'WALK,TRAINISH,RAIL,CABLE_CAR'})\n",
    "#payload.update({'mode':'WALK,TRAM'})\n",
    "#payload.update({'mode':'WALK,TRAM, BUSISH'})\n",
    "payload.update({'mode':'WALK,CAR,TRANSIT'})\n",
    "#payload.update({'walkReluctance':20})\n",
    "payload.update({'walkReluctance':20})\n",
    "#payload.update({'waitReluctance':0})\n",
    "payload.update({'time':'07:00'})\n",
    "#payload.update({'time':'07:%s' % (each)})\n",
    "#payload.update({'walkBoardCost':500})\n",
    "#payload.update({'bikeBoardCost':0})\n",
    "payload.update({'maxTranfers':2})\n",
    "#payload.update({'preTransitPenalty':})\n",
    "#payload.update({'waitAtBeginning':100000000})\n",
    "#payload.update({'maxPreTransitTime':10000})\n",
    "payload.update({'maxWalkDistance':5000})\n",
    "payload.update({'numItineraries':5})\n",
    "#payload.update({'softWalkPenalty':60.0})\n",
    "#payload.update({'softWalkOverageRate':5.0})\n",
    "r = requests.get('http://vta2.amigocloud.com/api/otp/plan?', params=payload)\n",
    "#r.text\n",
    "print_transit(r.json())"
   ]
  },
  {
   "cell_type": "code",
   "execution_count": 415,
   "metadata": {
    "collapsed": false
   },
   "outputs": [
    {
     "data": {
      "text/plain": [
       "'http://vta2.amigocloud.com/api/otp/plan?date=2016-07-14&time=07%3A00&numItineraries=5&maxWalkDistance=5000&maxTransfers=3&maxTranfers=2&fromPlace=37.3966147%2C-121.8682322&optimize=QUICK&toPlace=37.400281%2C+-121.939691&walkReluctance=20&mode=WALK%2CTRANSIT'"
      ]
     },
     "execution_count": 415,
     "metadata": {},
     "output_type": "execute_result"
    }
   ],
   "source": [
    "r.url"
   ]
  },
  {
   "cell_type": "code",
   "execution_count": 197,
   "metadata": {
    "collapsed": false
   },
   "outputs": [
    {
     "data": {
      "text/plain": [
       "'http://vta2.amigocloud.com/api/otp/plan?maxPreTransitTime=100&time=07%3A00&maxTransfers=3&arriveBy=false&maxWalkDistance=5000&waitAtBeginning=12&bikeSpeed=5&mode=TRAINISH%2CWALK&date=2016-07-14&toPlace=37.3335387%2C+-121.8850891&numItineraries=5&preTransitPenalty=100&maxTranfers=2&fromPlace=37.400281%2C-121.939691&optimize=QUICK&walkReluctance=20'"
      ]
     },
     "execution_count": 197,
     "metadata": {},
     "output_type": "execute_result"
    }
   ],
   "source": [
    "r.url"
   ]
  },
  {
   "cell_type": "code",
   "execution_count": 192,
   "metadata": {
    "collapsed": false
   },
   "outputs": [
    {
     "data": {
      "text/html": [
       "<div>\n",
       "<table border=\"1\" class=\"dataframe\">\n",
       "  <thead>\n",
       "    <tr style=\"text-align: right;\">\n",
       "      <th></th>\n",
       "      <th>start_lat</th>\n",
       "      <th>start_long</th>\n",
       "      <th>start_loc</th>\n",
       "      <th>dest_lat</th>\n",
       "      <th>dest_long</th>\n",
       "      <th>dest_loc</th>\n",
       "    </tr>\n",
       "  </thead>\n",
       "  <tbody>\n",
       "    <tr>\n",
       "      <th>0</th>\n",
       "      <td>37.394535</td>\n",
       "      <td>-121.868908</td>\n",
       "      <td>Capitol Avenue @ Camino del Rey, San Jose Park...</td>\n",
       "      <td>37.400281</td>\n",
       "      <td>-121.939691</td>\n",
       "      <td>3331 N. 1st St VTA</td>\n",
       "    </tr>\n",
       "    <tr>\n",
       "      <th>1</th>\n",
       "      <td>37.400281</td>\n",
       "      <td>-121.939691</td>\n",
       "      <td>3331 N. 1st St VTA</td>\n",
       "      <td>37.331997</td>\n",
       "      <td>-121.887286</td>\n",
       "      <td>Fairmont San Jose</td>\n",
       "    </tr>\n",
       "    <tr>\n",
       "      <th>2</th>\n",
       "      <td>37.400787</td>\n",
       "      <td>-121.868619</td>\n",
       "      <td>1684 Garvey Pl</td>\n",
       "      <td>37.400281</td>\n",
       "      <td>-121.939691</td>\n",
       "      <td>3331 N. 1st St VTA</td>\n",
       "    </tr>\n",
       "    <tr>\n",
       "      <th>3</th>\n",
       "      <td>37.400281</td>\n",
       "      <td>-121.939691</td>\n",
       "      <td>3331 N. 1st St VTA</td>\n",
       "      <td>37.333539</td>\n",
       "      <td>-121.885089</td>\n",
       "      <td>116 Paseo De San Antonio Walk, San Jose, CA 95...</td>\n",
       "    </tr>\n",
       "    <tr>\n",
       "      <th>4</th>\n",
       "      <td>37.397893</td>\n",
       "      <td>-121.868478</td>\n",
       "      <td>2755 Lucena Dr, San Jose, CA 95132, USA</td>\n",
       "      <td>37.400281</td>\n",
       "      <td>-121.939691</td>\n",
       "      <td>3331 N. 1st St VTA</td>\n",
       "    </tr>\n",
       "  </tbody>\n",
       "</table>\n",
       "</div>"
      ],
      "text/plain": [
       "   start_lat  start_long                                          start_loc  \\\n",
       "0  37.394535 -121.868908  Capitol Avenue @ Camino del Rey, San Jose Park...   \n",
       "1  37.400281 -121.939691                                 3331 N. 1st St VTA   \n",
       "2  37.400787 -121.868619                                     1684 Garvey Pl   \n",
       "3  37.400281 -121.939691                                 3331 N. 1st St VTA   \n",
       "4  37.397893 -121.868478            2755 Lucena Dr, San Jose, CA 95132, USA   \n",
       "\n",
       "    dest_lat   dest_long                                           dest_loc  \n",
       "0  37.400281 -121.939691                                 3331 N. 1st St VTA  \n",
       "1  37.331997 -121.887286                                  Fairmont San Jose  \n",
       "2  37.400281 -121.939691                                 3331 N. 1st St VTA  \n",
       "3  37.333539 -121.885089  116 Paseo De San Antonio Walk, San Jose, CA 95...  \n",
       "4  37.400281 -121.939691                                 3331 N. 1st St VTA  "
      ]
     },
     "execution_count": 192,
     "metadata": {},
     "output_type": "execute_result"
    }
   ],
   "source": [
    "df.head()\n",
    "#Random From and To pints"
   ]
  },
  {
   "cell_type": "code",
   "execution_count": null,
   "metadata": {
    "collapsed": true
   },
   "outputs": [],
   "source": [
    ", '.join([str(x) for x in list])\n",
    "''.join(map(str,list))"
   ]
  },
  {
   "cell_type": "code",
   "execution_count": 364,
   "metadata": {
    "collapsed": false
   },
   "outputs": [
    {
     "name": "stderr",
     "output_type": "stream",
     "text": [
      "//anaconda/lib/python3.5/site-packages/ipykernel/__main__.py:47: DeprecationWarning: using a non-integer number instead of an integer will result in an error in the future\n",
      "//anaconda/lib/python3.5/site-packages/ipykernel/__main__.py:49: DeprecationWarning: using a non-integer number instead of an integer will result in an error in the future\n"
     ]
    },
    {
     "data": {
      "text/plain": [
       "array([[  0,   1],\n",
       "       [  0,   2],\n",
       "       [  0,   3],\n",
       "       [  0,   4],\n",
       "       [  0,   5],\n",
       "       [ 10,   1],\n",
       "       [ 10,   2],\n",
       "       [ 10,   3],\n",
       "       [ 10,   4],\n",
       "       [ 10,   5],\n",
       "       [ 20,   1],\n",
       "       [ 20,   2],\n",
       "       [ 20,   3],\n",
       "       [ 20,   4],\n",
       "       [ 20,   5],\n",
       "       [100,   1],\n",
       "       [100,   2],\n",
       "       [100,   3],\n",
       "       [100,   4],\n",
       "       [100,   5]])"
      ]
     },
     "execution_count": 364,
     "metadata": {},
     "output_type": "execute_result"
    }
   ],
   "source": [
    "walkReluctance=[0,10,20,100]\n",
    "time = [1,2,3,4,5]\n",
    "cartesian((walkReluctance,time))\n"
   ]
  },
  {
   "cell_type": "code",
   "execution_count": 365,
   "metadata": {
    "collapsed": false
   },
   "outputs": [
    {
     "name": "stderr",
     "output_type": "stream",
     "text": [
      "//anaconda/lib/python3.5/site-packages/ipykernel/__main__.py:47: DeprecationWarning: using a non-integer number instead of an integer will result in an error in the future\n",
      "//anaconda/lib/python3.5/site-packages/ipykernel/__main__.py:49: DeprecationWarning: using a non-integer number instead of an integer will result in an error in the future\n"
     ]
    }
   ],
   "source": [
    "import numpy as np\n",
    "\n",
    "def cartesian(arrays, out=None):\n",
    "    \"\"\"\n",
    "    Generate a cartesian product of input arrays.\n",
    "\n",
    "    Parameters\n",
    "    ----------\n",
    "    arrays : list of array-like\n",
    "        1-D arrays to form the cartesian product of.\n",
    "    out : ndarray\n",
    "        Array to place the cartesian product in.\n",
    "\n",
    "    Returns\n",
    "    -------\n",
    "    out : ndarray\n",
    "        2-D array of shape (M, len(arrays)) containing cartesian products\n",
    "        formed of input arrays.\n",
    "\n",
    "    Examples\n",
    "    --------\n",
    "    >>> cartesian(([1, 2, 3], [4, 5], [6, 7]))\n",
    "    array([[1, 4, 6],\n",
    "           [1, 4, 7],\n",
    "           [1, 5, 6],\n",
    "           [1, 5, 7],\n",
    "           [2, 4, 6],\n",
    "           [2, 4, 7],\n",
    "           [2, 5, 6],\n",
    "           [2, 5, 7],\n",
    "           [3, 4, 6],\n",
    "           [3, 4, 7],\n",
    "           [3, 5, 6],\n",
    "           [3, 5, 7]])\n",
    "\n",
    "    \"\"\"\n",
    "    arrays = [np.asarray(x) for x in arrays]\n",
    "    dtype = arrays[0].dtype\n",
    "\n",
    "    n = np.prod([x.size for x in arrays])\n",
    "    if out is None:\n",
    "        out = np.zeros([n, len(arrays)], dtype=dtype)\n",
    "\n",
    "    m = n / arrays[0].size\n",
    "    out[:,0] = np.repeat(arrays[0], m)\n",
    "    if arrays[1:]:\n",
    "        cartesian(arrays[1:], out=out[0:m,1:])\n",
    "        for j in range(1, arrays[0].size):\n",
    "            out[j*m:(j+1)*m,1:] = out[0:m,1:]\n",
    "    return out\n",
    "\n",
    "walkReluctance=[0,10,20,100]\n",
    "time = [1,2,3,4,5]\n",
    "waitAtBeginning = [1,10,50,100,1000,2000,5000,10000,100000]\n",
    "array = cartesian((walkReluctance,time,waitAtBeginning))"
   ]
  },
  {
   "cell_type": "code",
   "execution_count": 349,
   "metadata": {
    "collapsed": false
   },
   "outputs": [
    {
     "name": "stderr",
     "output_type": "stream",
     "text": [
      "//anaconda/lib/python3.5/site-packages/ipykernel/__main__.py:48: DeprecationWarning: using a non-integer number instead of an integer will result in an error in the future\n",
      "//anaconda/lib/python3.5/site-packages/ipykernel/__main__.py:50: DeprecationWarning: using a non-integer number instead of an integer will result in an error in the future\n"
     ]
    }
   ],
   "source": []
  },
  {
   "cell_type": "code",
   "execution_count": 351,
   "metadata": {
    "collapsed": false
   },
   "outputs": [
    {
     "data": {
      "text/plain": [
       "numpy.ndarray"
      ]
     },
     "execution_count": 351,
     "metadata": {},
     "output_type": "execute_result"
    }
   ],
   "source": []
  },
  {
   "cell_type": "code",
   "execution_count": null,
   "metadata": {
    "collapsed": true
   },
   "outputs": [],
   "source": []
  }
 ],
 "metadata": {
  "kernelspec": {
   "display_name": "Python 3",
   "language": "python",
   "name": "python3"
  },
  "language_info": {
   "codemirror_mode": {
    "name": "ipython",
    "version": 3
   },
   "file_extension": ".py",
   "mimetype": "text/x-python",
   "name": "python",
   "nbconvert_exporter": "python",
   "pygments_lexer": "ipython3",
   "version": "3.5.1"
  }
 },
 "nbformat": 4,
 "nbformat_minor": 0
}

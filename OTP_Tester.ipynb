{
 "cells": [
  {
   "cell_type": "markdown",
   "metadata": {},
   "source": [
    "Notebook to test OTP configuration.\n",
    "Written by Vivek\n",
    "Started July 7th, 2016\n",
    "\n",
    "We need to test the different parameters like bike and walk, etc.  Build functions that test numerous locations, settings, and generate times.\n",
    "\n",
    "Current Todos:\n",
    "\n",
    "TODO: Geocode Addresses into GPS using Google\n",
    "\n",
    "TODO: Push resulting data into pandas dataframe"
   ]
  },
  {
   "cell_type": "code",
   "execution_count": 10,
   "metadata": {
    "collapsed": true
   },
   "outputs": [],
   "source": [
    "import requests\n",
    "import json\n",
    "import pandas as pd\n",
    "import numpy as np"
   ]
  },
  {
   "cell_type": "markdown",
   "metadata": {},
   "source": [
    "Sample Api Call:\n",
    "http://vta2.amigocloud.com/api/otp/plan?date=2016-07-07&time=23%3A0&mode=WALK%2CBUSISH%2CTRAINISH&fromPlace=37.389268%2C-121.879746&toPlace=37.4031595%2C-121.9865994&numItineraries=3&maxWalkDistance=5000&bikeSpeed=10&walkReluctance=10&maxTransfers=5&triangleSlopeFactor=0.333&triangleSafetyFactor=0.333&triangleTimeFactor=0.334&optimize=TRIANGLE&arriveBy=false"
   ]
  },
  {
   "cell_type": "markdown",
   "metadata": {},
   "source": [
    "http://vta2.amigocloud.com/api/otp/plan?mode=WALK%2CBUSISH%2CTRAINISH&fromPlace=37.4002813%2C-121.9396906&toPlace=37.326763%2C-121.856533&numItineraries=3&maxWalkDistance=5000&bikeSpeed=10&walkReluctance=15&maxTransfers=5&triangleSlopeFactor=0.333&triangleSafetyFactor=0.333&triangleTimeFactor=0.334&optimize=TRIANGLE"
   ]
  },
  {
   "cell_type": "code",
   "execution_count": 68,
   "metadata": {
    "collapsed": false
   },
   "outputs": [],
   "source": [
    "def query_string(start_lat, start_long, dest_lat, dest_long, bus = True, train = True, walk_dist = 5000, walk_reluc = 2, visual = False):\n",
    "    base = 'http://vta2.amigocloud.com'\n",
    "    api = '/api/otp/plan?'\n",
    "    date = 'date=2016-07-12'\n",
    "    time = ''\n",
    "    time = '&time=07%3A0'\n",
    "    \n",
    "    if bus == True or train == True:\n",
    "        mode = '&mode=WALK%2C'\n",
    "        if bus == True:\n",
    "            mode = mode + 'BUSISH%2C'\n",
    "        if train == True:\n",
    "            mode = mode + 'TRAINISH'\n",
    "    #mode = '&mode=WALK%2CBUSISH%2CTRAINISH'\n",
    "    \n",
    "    start = '&fromPlace=' + str(start_lat) + '%2C' + str(start_long)\n",
    "    #start = '&fromPlace=37.389268%2C-121.879746'\n",
    "    dest = '&toPlace=' + str(dest_lat) + '%2C' + str(dest_long)\n",
    "    #dest = '&toPlace=37.4031595%2C-121.9865994'\n",
    "    num_iter = '&numItineraries=3'\n",
    "    \n",
    "    walk = '&maxWalkDistance=' + str(walk_dist) + '&'\n",
    "    \n",
    "    bike = 'bikeSpeed=10'\n",
    "    \n",
    "    walk_reluctance = '&walkReluctance=' + str(walk_reluc)\n",
    "    max_tran = '&maxTransfers=5'\n",
    "    triangle = '&triangleSlopeFactor=0.333&triangleSafetyFactor=0.333&triangleTimeFactor=0.334&optimize=TRIANGLE'\n",
    "    arriveby = '&arriveBy=false'\n",
    "    \n",
    "    #Visualize doesn't work right at the moment\n",
    "    if visual == True:\n",
    "        api = '/planner?'\n",
    "        query = base + api + date + time + mode + start + dest + num_iter + walk + bike + walk_reluctance + max_tran + triangle + arriveby\n",
    "    else:\n",
    "        query = base + api + date + time + mode + start + dest + num_iter + walk + bike + walk_reluctance + max_tran + triangle + arriveby\n",
    "\n",
    "    return query"
   ]
  },
  {
   "cell_type": "code",
   "execution_count": 69,
   "metadata": {
    "collapsed": false
   },
   "outputs": [],
   "source": [
    "rand_starts=pd.read_csv('Rand_Starts.csv')\n",
    "rand_dests=pd.read_csv('Rand_Dests.csv')\n",
    "known_starts=pd.read_csv('Known_Starts.csv')\n",
    "known_dests=pd.read_csv('Known_Dests.csv')"
   ]
  },
  {
   "cell_type": "code",
   "execution_count": 70,
   "metadata": {
    "collapsed": false
   },
   "outputs": [],
   "source": [
    "df = pd.DataFrame();\n",
    "\n",
    "#df['start_lat'] = rand_starts['Lat']\n",
    "#df['start_long'] = rand_starts['Long']\n",
    "#df['dest_lat'] = rand_dests['Lat']\n",
    "#df['dest_long'] = rand_dests['Long']\n",
    "\n",
    "df['start_lat'] = known_starts['Lat']\n",
    "df['start_long'] = known_starts['Long']\n",
    "df['start_loc']= known_starts['Desc']\n",
    "df['dest_lat'] = known_dests['Lat']\n",
    "df['dest_long'] = known_dests['Long']\n",
    "df['dest_loc'] = known_dests['Desc']"
   ]
  },
  {
   "cell_type": "code",
   "execution_count": 71,
   "metadata": {
    "collapsed": false
   },
   "outputs": [
    {
     "data": {
      "text/html": [
       "<div>\n",
       "<table border=\"1\" class=\"dataframe\">\n",
       "  <thead>\n",
       "    <tr style=\"text-align: right;\">\n",
       "      <th></th>\n",
       "      <th>start_lat</th>\n",
       "      <th>start_long</th>\n",
       "      <th>start_loc</th>\n",
       "      <th>dest_lat</th>\n",
       "      <th>dest_long</th>\n",
       "      <th>dest_loc</th>\n",
       "    </tr>\n",
       "  </thead>\n",
       "  <tbody>\n",
       "    <tr>\n",
       "      <th>0</th>\n",
       "      <td>37.394535</td>\n",
       "      <td>-121.868908</td>\n",
       "      <td>Capitol Avenue @ Camino del Rey, San Jose Park...</td>\n",
       "      <td>37.400281</td>\n",
       "      <td>-121.939691</td>\n",
       "      <td>3331 N. 1st St VTA</td>\n",
       "    </tr>\n",
       "    <tr>\n",
       "      <th>1</th>\n",
       "      <td>37.400281</td>\n",
       "      <td>-121.939691</td>\n",
       "      <td>3331 N. 1st St VTA</td>\n",
       "      <td>37.331997</td>\n",
       "      <td>-121.887286</td>\n",
       "      <td>Fairmont San Jose</td>\n",
       "    </tr>\n",
       "  </tbody>\n",
       "</table>\n",
       "</div>"
      ],
      "text/plain": [
       "   start_lat  start_long                                          start_loc  \\\n",
       "0  37.394535 -121.868908  Capitol Avenue @ Camino del Rey, San Jose Park...   \n",
       "1  37.400281 -121.939691                                 3331 N. 1st St VTA   \n",
       "\n",
       "    dest_lat   dest_long            dest_loc  \n",
       "0  37.400281 -121.939691  3331 N. 1st St VTA  \n",
       "1  37.331997 -121.887286   Fairmont San Jose  "
      ]
     },
     "execution_count": 71,
     "metadata": {},
     "output_type": "execute_result"
    }
   ],
   "source": [
    "df.head()\n",
    "#Random From and To pints"
   ]
  },
  {
   "cell_type": "code",
   "execution_count": 72,
   "metadata": {
    "collapsed": true
   },
   "outputs": [],
   "source": [
    "#visuals = []\n",
    "#visuals.append(query_string(start_lat = df['start_lat'][row], start_long = df['start_long'][row], dest_lat = df['dest_lat'][row], dest_long=df['dest_long'][row], walk_dist = 10000,visual = True))\n",
    "#df['visual'] = visuals"
   ]
  },
  {
   "cell_type": "code",
   "execution_count": 73,
   "metadata": {
    "collapsed": false
   },
   "outputs": [],
   "source": [
    "def input_params(df, max_walk, walk_reluc_factor):\n",
    "    row = 0\n",
    "    times=[]\n",
    "    results = []\n",
    "    queries = []\n",
    "\n",
    "    trips = []\n",
    "    lowest = []\n",
    "    \n",
    "    for each in df.iterrows():\n",
    "        query = query_string(start_lat = df['start_lat'][row], start_long = df['start_long'][row], \n",
    "                             dest_lat = df['dest_lat'][row], dest_long=df['dest_long'][row],\n",
    "                             walk_dist = max_walk, walk_reluc = walk_reluc_factor)\n",
    "        queries.append(query)\n",
    "        r = requests.get(query)\n",
    "        query_json = json.loads(r.text)\n",
    "        results.append(str(query_json))\n",
    "        one_set_of_times= query_json['debugOutput']['pathTimes']\n",
    "        times.append(one_set_of_times)\n",
    "        row = row + 1\n",
    "    df['times'] = times\n",
    "    \n",
    "    \n",
    "    #Calculate Lowest trip length\n",
    "    for each in df['times']:\n",
    "        trips.append(len(each))\n",
    "        if len(each) != 0:\n",
    "            lowest.append(min(each))\n",
    "        else:\n",
    "            lowest.append(999)\n",
    "    df['trips']=trips\n",
    "    df['lowest']=lowest\n",
    "    \n",
    "    df['queries'] = queries\n",
    "    df['results'] = results\n",
    "    \n",
    "    \n",
    "    return df"
   ]
  },
  {
   "cell_type": "code",
   "execution_count": 74,
   "metadata": {
    "collapsed": false
   },
   "outputs": [],
   "source": [
    "series=input_params(df, max_walk = 5000, walk_reluc_factor = 2)"
   ]
  },
  {
   "cell_type": "code",
   "execution_count": 57,
   "metadata": {
    "collapsed": false
   },
   "outputs": [
    {
     "data": {
      "text/html": [
       "<div>\n",
       "<table border=\"1\" class=\"dataframe\">\n",
       "  <thead>\n",
       "    <tr style=\"text-align: right;\">\n",
       "      <th></th>\n",
       "      <th>start_lat</th>\n",
       "      <th>start_long</th>\n",
       "      <th>start_loc</th>\n",
       "      <th>dest_lat</th>\n",
       "      <th>dest_long</th>\n",
       "      <th>dest_loc</th>\n",
       "      <th>times</th>\n",
       "      <th>trips</th>\n",
       "      <th>lowest</th>\n",
       "      <th>queries</th>\n",
       "      <th>results</th>\n",
       "    </tr>\n",
       "  </thead>\n",
       "  <tbody>\n",
       "    <tr>\n",
       "      <th>0</th>\n",
       "      <td>37.394535</td>\n",
       "      <td>-121.868908</td>\n",
       "      <td>Capitol Avenue @ Camino del Rey, San Jose Park...</td>\n",
       "      <td>37.400281</td>\n",
       "      <td>-121.939691</td>\n",
       "      <td>3331 N. 1st St VTA</td>\n",
       "      <td>[114, 121, 124]</td>\n",
       "      <td>3</td>\n",
       "      <td>114</td>\n",
       "      <td>http://vta2.amigocloud.com/api/otp/plan?date=2...</td>\n",
       "      <td>{'plan': {'from': {'lon': -121.868908, 'lat': ...</td>\n",
       "    </tr>\n",
       "    <tr>\n",
       "      <th>1</th>\n",
       "      <td>37.400281</td>\n",
       "      <td>-121.939691</td>\n",
       "      <td>3331 N. 1st St VTA</td>\n",
       "      <td>37.331997</td>\n",
       "      <td>-121.887286</td>\n",
       "      <td>Fairmont San Jose</td>\n",
       "      <td>[49, 40, 49]</td>\n",
       "      <td>3</td>\n",
       "      <td>40</td>\n",
       "      <td>http://vta2.amigocloud.com/api/otp/plan?date=2...</td>\n",
       "      <td>{'plan': {'from': {'lon': -121.93975519745304,...</td>\n",
       "    </tr>\n",
       "  </tbody>\n",
       "</table>\n",
       "</div>"
      ],
      "text/plain": [
       "   start_lat  start_long                                          start_loc  \\\n",
       "0  37.394535 -121.868908  Capitol Avenue @ Camino del Rey, San Jose Park...   \n",
       "1  37.400281 -121.939691                                 3331 N. 1st St VTA   \n",
       "\n",
       "    dest_lat   dest_long            dest_loc            times  trips  lowest  \\\n",
       "0  37.400281 -121.939691  3331 N. 1st St VTA  [114, 121, 124]      3     114   \n",
       "1  37.331997 -121.887286   Fairmont San Jose     [49, 40, 49]      3      40   \n",
       "\n",
       "                                             queries  \\\n",
       "0  http://vta2.amigocloud.com/api/otp/plan?date=2...   \n",
       "1  http://vta2.amigocloud.com/api/otp/plan?date=2...   \n",
       "\n",
       "                                             results  \n",
       "0  {'plan': {'from': {'lon': -121.868908, 'lat': ...  \n",
       "1  {'plan': {'from': {'lon': -121.93975519745304,...  "
      ]
     },
     "execution_count": 57,
     "metadata": {},
     "output_type": "execute_result"
    }
   ],
   "source": [
    "series"
   ]
  },
  {
   "cell_type": "code",
   "execution_count": 67,
   "metadata": {
    "collapsed": false
   },
   "outputs": [
    {
     "data": {
      "text/html": [
       "<div>\n",
       "<table border=\"1\" class=\"dataframe\">\n",
       "  <thead>\n",
       "    <tr style=\"text-align: right;\">\n",
       "      <th></th>\n",
       "      <th>start_lat</th>\n",
       "      <th>start_long</th>\n",
       "      <th>start_loc</th>\n",
       "      <th>dest_lat</th>\n",
       "      <th>dest_long</th>\n",
       "      <th>dest_loc</th>\n",
       "      <th>times</th>\n",
       "      <th>trips</th>\n",
       "      <th>lowest</th>\n",
       "      <th>queries</th>\n",
       "      <th>results</th>\n",
       "    </tr>\n",
       "  </thead>\n",
       "  <tbody>\n",
       "    <tr>\n",
       "      <th>0</th>\n",
       "      <td>37.394535</td>\n",
       "      <td>-121.868908</td>\n",
       "      <td>Capitol Avenue @ Camino del Rey, San Jose Park...</td>\n",
       "      <td>37.400281</td>\n",
       "      <td>-121.939691</td>\n",
       "      <td>3331 N. 1st St VTA</td>\n",
       "      <td>[115, 127, 143]</td>\n",
       "      <td>3</td>\n",
       "      <td>115</td>\n",
       "      <td>http://vta2.amigocloud.com/api/otp/plan?date=2...</td>\n",
       "      <td>{'plan': {'from': {'lon': -121.868908, 'lat': ...</td>\n",
       "    </tr>\n",
       "    <tr>\n",
       "      <th>1</th>\n",
       "      <td>37.400281</td>\n",
       "      <td>-121.939691</td>\n",
       "      <td>3331 N. 1st St VTA</td>\n",
       "      <td>37.331997</td>\n",
       "      <td>-121.887286</td>\n",
       "      <td>Fairmont San Jose</td>\n",
       "      <td>[33, 50, 51]</td>\n",
       "      <td>3</td>\n",
       "      <td>33</td>\n",
       "      <td>http://vta2.amigocloud.com/api/otp/plan?date=2...</td>\n",
       "      <td>{'plan': {'from': {'lon': -121.93975519745304,...</td>\n",
       "    </tr>\n",
       "  </tbody>\n",
       "</table>\n",
       "</div>"
      ],
      "text/plain": [
       "   start_lat  start_long                                          start_loc  \\\n",
       "0  37.394535 -121.868908  Capitol Avenue @ Camino del Rey, San Jose Park...   \n",
       "1  37.400281 -121.939691                                 3331 N. 1st St VTA   \n",
       "\n",
       "    dest_lat   dest_long            dest_loc            times  trips  lowest  \\\n",
       "0  37.400281 -121.939691  3331 N. 1st St VTA  [115, 127, 143]      3     115   \n",
       "1  37.331997 -121.887286   Fairmont San Jose     [33, 50, 51]      3      33   \n",
       "\n",
       "                                             queries  \\\n",
       "0  http://vta2.amigocloud.com/api/otp/plan?date=2...   \n",
       "1  http://vta2.amigocloud.com/api/otp/plan?date=2...   \n",
       "\n",
       "                                             results  \n",
       "0  {'plan': {'from': {'lon': -121.868908, 'lat': ...  \n",
       "1  {'plan': {'from': {'lon': -121.93975519745304,...  "
      ]
     },
     "execution_count": 67,
     "metadata": {},
     "output_type": "execute_result"
    }
   ],
   "source": [
    "series"
   ]
  },
  {
   "cell_type": "code",
   "execution_count": 75,
   "metadata": {
    "collapsed": false
   },
   "outputs": [
    {
     "data": {
      "text/html": [
       "<div>\n",
       "<table border=\"1\" class=\"dataframe\">\n",
       "  <thead>\n",
       "    <tr style=\"text-align: right;\">\n",
       "      <th></th>\n",
       "      <th>start_lat</th>\n",
       "      <th>start_long</th>\n",
       "      <th>start_loc</th>\n",
       "      <th>dest_lat</th>\n",
       "      <th>dest_long</th>\n",
       "      <th>dest_loc</th>\n",
       "      <th>times</th>\n",
       "      <th>trips</th>\n",
       "      <th>lowest</th>\n",
       "      <th>queries</th>\n",
       "      <th>results</th>\n",
       "    </tr>\n",
       "  </thead>\n",
       "  <tbody>\n",
       "    <tr>\n",
       "      <th>0</th>\n",
       "      <td>37.394535</td>\n",
       "      <td>-121.868908</td>\n",
       "      <td>Capitol Avenue @ Camino del Rey, San Jose Park...</td>\n",
       "      <td>37.400281</td>\n",
       "      <td>-121.939691</td>\n",
       "      <td>3331 N. 1st St VTA</td>\n",
       "      <td>[114, 126, 143]</td>\n",
       "      <td>3</td>\n",
       "      <td>114</td>\n",
       "      <td>http://vta2.amigocloud.com/api/otp/plan?date=2...</td>\n",
       "      <td>{'plan': {'from': {'lon': -121.868908, 'lat': ...</td>\n",
       "    </tr>\n",
       "    <tr>\n",
       "      <th>1</th>\n",
       "      <td>37.400281</td>\n",
       "      <td>-121.939691</td>\n",
       "      <td>3331 N. 1st St VTA</td>\n",
       "      <td>37.331997</td>\n",
       "      <td>-121.887286</td>\n",
       "      <td>Fairmont San Jose</td>\n",
       "      <td>[46, 57, 45]</td>\n",
       "      <td>3</td>\n",
       "      <td>45</td>\n",
       "      <td>http://vta2.amigocloud.com/api/otp/plan?date=2...</td>\n",
       "      <td>{'plan': {'from': {'lon': -121.93975519745304,...</td>\n",
       "    </tr>\n",
       "  </tbody>\n",
       "</table>\n",
       "</div>"
      ],
      "text/plain": [
       "   start_lat  start_long                                          start_loc  \\\n",
       "0  37.394535 -121.868908  Capitol Avenue @ Camino del Rey, San Jose Park...   \n",
       "1  37.400281 -121.939691                                 3331 N. 1st St VTA   \n",
       "\n",
       "    dest_lat   dest_long            dest_loc            times  trips  lowest  \\\n",
       "0  37.400281 -121.939691  3331 N. 1st St VTA  [114, 126, 143]      3     114   \n",
       "1  37.331997 -121.887286   Fairmont San Jose     [46, 57, 45]      3      45   \n",
       "\n",
       "                                             queries  \\\n",
       "0  http://vta2.amigocloud.com/api/otp/plan?date=2...   \n",
       "1  http://vta2.amigocloud.com/api/otp/plan?date=2...   \n",
       "\n",
       "                                             results  \n",
       "0  {'plan': {'from': {'lon': -121.868908, 'lat': ...  \n",
       "1  {'plan': {'from': {'lon': -121.93975519745304,...  "
      ]
     },
     "execution_count": 75,
     "metadata": {},
     "output_type": "execute_result"
    }
   ],
   "source": [
    "series"
   ]
  },
  {
   "cell_type": "code",
   "execution_count": 30,
   "metadata": {
    "collapsed": false
   },
   "outputs": [],
   "source": [
    "df.to_csv('series.csv')"
   ]
  },
  {
   "cell_type": "code",
   "execution_count": null,
   "metadata": {
    "collapsed": false
   },
   "outputs": [],
   "source": [
    "#'http://docs.python-guide.org/en/latest/scenarios/json/'\n",
    "#query_json['plan']['itineraries'][x]['legs'][y]['legGeometry']"
   ]
  },
  {
   "cell_type": "code",
   "execution_count": null,
   "metadata": {
    "collapsed": true
   },
   "outputs": [],
   "source": [
    "#final = pd.DataFrame([each, every, sum(df['lowest']), sum(df['trips'])], columns = ['walk_dist','walk_reluc','lowest','trips'])\n",
    "#finals.append(final)\n",
    "#finals"
   ]
  },
  {
   "cell_type": "code",
   "execution_count": 1,
   "metadata": {
    "collapsed": true
   },
   "outputs": [],
   "source": [
    "import polyline"
   ]
  },
  {
   "cell_type": "code",
   "execution_count": 2,
   "metadata": {
    "collapsed": false
   },
   "outputs": [
    {
     "data": {
      "text/plain": [
       "'_p~iF~ps|U_ulL~ugC_hgN~eq`@'"
      ]
     },
     "execution_count": 2,
     "metadata": {},
     "output_type": "execute_result"
    }
   ],
   "source": []
  },
  {
   "cell_type": "code",
   "execution_count": 58,
   "metadata": {
    "collapsed": false
   },
   "outputs": [
    {
     "data": {
      "text/plain": [
       "'http://vta2.amigocloud.com/api/otp/plan?date=2016-07-12&mode=WALK%2CBUSISH%2CTRAINISH&fromPlace=37.394535%2C-121.868908&toPlace=37.400281%2C-121.939691&numItineraries=3&maxWalkDistance=5000&bikeSpeed=10&walkReluctance=2&maxTransfers=5&triangleSlopeFactor=0.333&triangleSafetyFactor=0.333&triangleTimeFactor=0.334&optimize=TRIANGLE&arriveBy=false'"
      ]
     },
     "execution_count": 58,
     "metadata": {},
     "output_type": "execute_result"
    }
   ],
   "source": [
    "df['queries'][0]"
   ]
  },
  {
   "cell_type": "code",
   "execution_count": 90,
   "metadata": {
    "collapsed": false
   },
   "outputs": [],
   "source": [
    "query= df['queries'][0]"
   ]
  },
  {
   "cell_type": "code",
   "execution_count": 77,
   "metadata": {
    "collapsed": true
   },
   "outputs": [],
   "source": [
    "from datetime import datetime"
   ]
  },
  {
   "cell_type": "code",
   "execution_count": 79,
   "metadata": {
    "collapsed": false
   },
   "outputs": [
    {
     "data": {
      "text/plain": [
       "datetime.datetime(2016, 7, 12, 7, 0)"
      ]
     },
     "execution_count": 79,
     "metadata": {},
     "output_type": "execute_result"
    }
   ],
   "source": [
    "datetime.fromtimestamp(1468332000000/1000)"
   ]
  },
  {
   "cell_type": "code",
   "execution_count": 80,
   "metadata": {
    "collapsed": false
   },
   "outputs": [
    {
     "data": {
      "text/plain": [
       "datetime.datetime(2016, 7, 12, 7, 16, 55)"
      ]
     },
     "execution_count": 80,
     "metadata": {},
     "output_type": "execute_result"
    }
   ],
   "source": [
    "datetime.fromtimestamp(1468333015000/1000)"
   ]
  },
  {
   "cell_type": "code",
   "execution_count": 81,
   "metadata": {
    "collapsed": false
   },
   "outputs": [
    {
     "data": {
      "text/plain": [
       "datetime.datetime(2016, 7, 12, 7, 0, 28)"
      ]
     },
     "execution_count": 81,
     "metadata": {},
     "output_type": "execute_result"
    }
   ],
   "source": [
    "datetime.fromtimestamp(1468332028000/1000)"
   ]
  },
  {
   "cell_type": "code",
   "execution_count": 82,
   "metadata": {
    "collapsed": false
   },
   "outputs": [
    {
     "data": {
      "text/plain": [
       "datetime.datetime(2016, 7, 12, 7, 23, 40)"
      ]
     },
     "execution_count": 82,
     "metadata": {},
     "output_type": "execute_result"
    }
   ],
   "source": [
    "datetime.fromtimestamp(1468333420000/1000)"
   ]
  },
  {
   "cell_type": "code",
   "execution_count": 84,
   "metadata": {
    "collapsed": false
   },
   "outputs": [
    {
     "data": {
      "text/plain": [
       "datetime.time(7, 23, 40)"
      ]
     },
     "execution_count": 84,
     "metadata": {},
     "output_type": "execute_result"
    }
   ],
   "source": [
    "datetime.fromtimestamp(1468333420000/1000).time()"
   ]
  },
  {
   "cell_type": "code",
   "execution_count": 88,
   "metadata": {
    "collapsed": false
   },
   "outputs": [
    {
     "data": {
      "text/plain": [
       "23.2"
      ]
     },
     "execution_count": 88,
     "metadata": {},
     "output_type": "execute_result"
    }
   ],
   "source": [
    "1392.0/60.0"
   ]
  },
  {
   "cell_type": "code",
   "execution_count": 93,
   "metadata": {
    "collapsed": false
   },
   "outputs": [
    {
     "data": {
      "text/plain": [
       "datetime.timedelta(0, 1392)"
      ]
     },
     "execution_count": 93,
     "metadata": {},
     "output_type": "execute_result"
    }
   ],
   "source": [
    "datetime.fromtimestamp(1468333420000/1000)-datetime.fromtimestamp(1468332028000/1000)"
   ]
  },
  {
   "cell_type": "code",
   "execution_count": 94,
   "metadata": {
    "collapsed": false
   },
   "outputs": [
    {
     "name": "stdout",
     "output_type": "stream",
     "text": [
      "0:23:12\n"
     ]
    }
   ],
   "source": [
    "print(_)"
   ]
  },
  {
   "cell_type": "code",
   "execution_count": 89,
   "metadata": {
    "collapsed": false
   },
   "outputs": [
    {
     "ename": "NameError",
     "evalue": "name 'query' is not defined",
     "output_type": "error",
     "traceback": [
      "\u001b[0;31m---------------------------------------------------------------------------\u001b[0m",
      "\u001b[0;31mNameError\u001b[0m                                 Traceback (most recent call last)",
      "\u001b[0;32m<ipython-input-89-fde60bdc79a2>\u001b[0m in \u001b[0;36m<module>\u001b[0;34m()\u001b[0m\n\u001b[0;32m----> 1\u001b[0;31m \u001b[0mquery\u001b[0m\u001b[0;34m\u001b[0m\u001b[0m\n\u001b[0m",
      "\u001b[0;31mNameError\u001b[0m: name 'query' is not defined"
     ]
    }
   ],
   "source": [
    "query"
   ]
  },
  {
   "cell_type": "code",
   "execution_count": 91,
   "metadata": {
    "collapsed": false
   },
   "outputs": [
    {
     "data": {
      "text/plain": [
       "'http://vta2.amigocloud.com/api/otp/plan?date=2016-07-12&time=07%3A0&mode=WALK%2CBUSISH%2CTRAINISH&fromPlace=37.394535%2C-121.868908&toPlace=37.400281%2C-121.939691&numItineraries=3&maxWalkDistance=5000&bikeSpeed=10&walkReluctance=2&maxTransfers=5&triangleSlopeFactor=0.333&triangleSafetyFactor=0.333&triangleTimeFactor=0.334&optimize=TRIANGLE&arriveBy=false'"
      ]
     },
     "execution_count": 91,
     "metadata": {},
     "output_type": "execute_result"
    }
   ],
   "source": [
    "query"
   ]
  },
  {
   "cell_type": "code",
   "execution_count": null,
   "metadata": {
    "collapsed": true
   },
   "outputs": [],
   "source": [
    "r = requests.get(query)\n",
    "query_json = json.loads(r.text)\n",
    "results.append(str(query_json))\n",
    "one_set_of_times= query_json['debugOutput']['pathTimes']\n",
    "times.append(one_set_of_times)\n"
   ]
  }
 ],
 "metadata": {
  "kernelspec": {
   "display_name": "Python 3",
   "language": "python",
   "name": "python3"
  },
  "language_info": {
   "codemirror_mode": {
    "name": "ipython",
    "version": 3
   },
   "file_extension": ".py",
   "mimetype": "text/x-python",
   "name": "python",
   "nbconvert_exporter": "python",
   "pygments_lexer": "ipython3",
   "version": "3.5.1"
  }
 },
 "nbformat": 4,
 "nbformat_minor": 0
}

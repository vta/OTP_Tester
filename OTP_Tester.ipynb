{
 "cells": [
  {
   "cell_type": "markdown",
   "metadata": {},
   "source": [
    "Notebook to test OTP configuration.\n",
    "Written by Vivek\n",
    "Started July 7th, 2016\n",
    "\n",
    "We need to test the different parameters like bike and walk, etc.  Build functions that test numerous locations, settings, and generate times.\n",
    "\n",
    "Current Todos:\n",
    "\n",
    "TODO: Geocode Addresses into GPS using Google\n",
    "\n",
    "TODO: Push resulting data into pandas dataframe"
   ]
  },
  {
   "cell_type": "code",
   "execution_count": 3,
   "metadata": {
    "collapsed": false
   },
   "outputs": [],
   "source": [
    "from datetime import datetime\n",
    "import requests\n",
    "import json\n",
    "import pandas as pd\n",
    "import numpy as np"
   ]
  },
  {
   "cell_type": "markdown",
   "metadata": {},
   "source": [
    "Sample Api Call:\n",
    "http://vta2.amigocloud.com/api/otp/plan?date=2016-07-07&time=23%3A0&mode=WALK%2CBUSISH%2CTRAINISH&fromPlace=37.389268%2C-121.879746&toPlace=37.4031595%2C-121.9865994&numItineraries=3&maxWalkDistance=5000&bikeSpeed=10&walkReluctance=10&maxTransfers=5&triangleSlopeFactor=0.333&triangleSafetyFactor=0.333&triangleTimeFactor=0.334&optimize=TRIANGLE&arriveBy=false"
   ]
  },
  {
   "cell_type": "markdown",
   "metadata": {},
   "source": [
    "http://vta2.amigocloud.com/api/otp/plan?mode=WALK%2CBUSISH%2CTRAINISH&fromPlace=37.4002813%2C-121.9396906&toPlace=37.326763%2C-121.856533&numItineraries=3&maxWalkDistance=5000&bikeSpeed=10&walkReluctance=15&maxTransfers=5&triangleSlopeFactor=0.333&triangleSafetyFactor=0.333&triangleTimeFactor=0.334&optimize=TRIANGLE"
   ]
  },
  {
   "cell_type": "code",
   "execution_count": 4,
   "metadata": {
    "collapsed": false
   },
   "outputs": [],
   "source": [
    "def query_string(start_lat, start_long, dest_lat, dest_long, bus = True, train = True, bike = True, walk_dist = 5000, walk_reluc = 2, visual = False):\n",
    "    base = 'http://vta2.amigocloud.com'\n",
    "    api = '/api/otp/plan?'\n",
    "    date = 'date=2016-07-12'\n",
    "    time = ''\n",
    "    time = '&time=07%3A0'\n",
    "    \n",
    "    if bike:\n",
    "        mode = '&mode=BICYCLE%2C'\n",
    "    else:\n",
    "        mode = '&mode=WALK%2C'\n",
    "\n",
    "    if bus:\n",
    "        mode = mode + 'BUSISH%2C'\n",
    "    if train:\n",
    "        mode = mode + 'TRAINISH'\n",
    "    #mode = '&mode=WALK%2CBUSISH%2CTRAINISH'\n",
    "    \n",
    "    start = '&fromPlace=' + str(start_lat) + '%2C' + str(start_long)\n",
    "    #start = '&fromPlace=37.389268%2C-121.879746'\n",
    "    dest = '&toPlace=' + str(dest_lat) + '%2C' + str(dest_long)\n",
    "    #dest = '&toPlace=37.4031595%2C-121.9865994'\n",
    "    num_iter = '&numItineraries=3'\n",
    "    \n",
    "    walk = '&maxWalkDistance=' + str(walk_dist) + '&'\n",
    "    \n",
    "    bike = 'bikeSpeed=10'\n",
    "    \n",
    "    walk_reluctance = '&walkReluctance=' + str(walk_reluc)\n",
    "    max_tran = '&maxTransfers=5'\n",
    "    triangle = '&triangleSlopeFactor=0.333&triangleSafetyFactor=0.333&triangleTimeFactor=0.334&optimize=TRIANGLE'\n",
    "    arriveby = '&arriveBy=false'\n",
    "    \n",
    "    #Visualize doesn't work right at the moment\n",
    "    if visual:\n",
    "        api = '/planner?'\n",
    "        query = base + api + date + time + mode + start + dest + num_iter + walk + bike + walk_reluctance + max_tran + triangle + arriveby\n",
    "    else:\n",
    "        query = base + api + date + time + mode + start + dest + num_iter + walk + bike + walk_reluctance + max_tran + triangle + arriveby\n",
    "\n",
    "    return query"
   ]
  },
  {
   "cell_type": "code",
   "execution_count": 5,
   "metadata": {
    "collapsed": true
   },
   "outputs": [],
   "source": [
    "def print_transit(query_json):\n",
    "    for a in query_json['plan']['itineraries']:\n",
    "        print('start: '+ tclean(a['startTime']))\n",
    "        print('end: '+ tclean(a['endTime']))\n",
    "        print('duration: '+ str(a['duration']/60) + ' minutes')\n",
    "        print('waitingTime: '+ str(a['waitingTime']/60) + ' minutes')\n",
    "        print('transitTime: '+ str(a['transitTime']/60) + ' minutes')\n",
    "        print('walkDistance: '+ str(a['walkDistance']/1000*.621371) + ' miles')\n",
    "        print('transfers: '+ str(a['transfers']))\n",
    "        for each in a['legs']:\n",
    "            print('   StartTime: '+ tclean(each['startTime']) + \" mode: \" + each['mode'])\n",
    "            print(\"   headsign: \" + str(each.get('headsign')))\n",
    "            print('   endTime:   ' + tclean(each['endTime']) + \" duration: \" + str(each['duration']/60))    "
   ]
  },
  {
   "cell_type": "code",
   "execution_count": 9,
   "metadata": {
    "collapsed": false
   },
   "outputs": [
    {
     "data": {
      "text/plain": [
       "'/Users/falconer_k/git/vta/OTP_Tester'"
      ]
     },
     "execution_count": 9,
     "metadata": {},
     "output_type": "execute_result"
    }
   ],
   "source": [
    "import os\n",
    "os.getcwd()"
   ]
  },
  {
   "cell_type": "code",
   "execution_count": 10,
   "metadata": {
    "collapsed": false
   },
   "outputs": [],
   "source": [
    "rand_starts=pd.read_csv('Rand_Starts.csv')\n",
    "rand_dests=pd.read_csv('Rand_Dests.csv')\n",
    "known_starts=pd.read_csv('Known_Starts.csv')\n",
    "known_dests=pd.read_csv('Known_Dests.csv')"
   ]
  },
  {
   "cell_type": "code",
   "execution_count": 11,
   "metadata": {
    "collapsed": false
   },
   "outputs": [],
   "source": [
    "df = pd.DataFrame();\n",
    "\n",
    "#df['start_lat'] = rand_starts['Lat']\n",
    "#df['start_long'] = rand_starts['Long']\n",
    "#df['dest_lat'] = rand_dests['Lat']\n",
    "#df['dest_long'] = rand_dests['Long']\n",
    "\n",
    "df['start_lat'] = known_starts['Lat']\n",
    "df['start_long'] = known_starts['Long']\n",
    "df['start_loc']= known_starts['Desc']\n",
    "df['dest_lat'] = known_dests['Lat']\n",
    "df['dest_long'] = known_dests['Long']\n",
    "df['dest_loc'] = known_dests['Desc']"
   ]
  },
  {
   "cell_type": "code",
   "execution_count": 15,
   "metadata": {
    "collapsed": true
   },
   "outputs": [],
   "source": [
    "def tclean(dto):\n",
    "    return str(datetime.fromtimestamp(dto/1000))"
   ]
  },
  {
   "cell_type": "code",
   "execution_count": 12,
   "metadata": {
    "collapsed": false
   },
   "outputs": [
    {
     "data": {
      "text/html": [
       "<div>\n",
       "<table border=\"1\" class=\"dataframe\">\n",
       "  <thead>\n",
       "    <tr style=\"text-align: right;\">\n",
       "      <th></th>\n",
       "      <th>start_lat</th>\n",
       "      <th>start_long</th>\n",
       "      <th>start_loc</th>\n",
       "      <th>dest_lat</th>\n",
       "      <th>dest_long</th>\n",
       "      <th>dest_loc</th>\n",
       "    </tr>\n",
       "  </thead>\n",
       "  <tbody>\n",
       "    <tr>\n",
       "      <th>0</th>\n",
       "      <td>37.394535</td>\n",
       "      <td>-121.868908</td>\n",
       "      <td>Capitol Avenue @ Camino del Rey, San Jose Park...</td>\n",
       "      <td>37.400281</td>\n",
       "      <td>-121.939691</td>\n",
       "      <td>3331 N. 1st St VTA</td>\n",
       "    </tr>\n",
       "    <tr>\n",
       "      <th>1</th>\n",
       "      <td>37.400281</td>\n",
       "      <td>-121.939691</td>\n",
       "      <td>3331 N. 1st St VTA</td>\n",
       "      <td>37.331997</td>\n",
       "      <td>-121.887286</td>\n",
       "      <td>Fairmont San Jose</td>\n",
       "    </tr>\n",
       "  </tbody>\n",
       "</table>\n",
       "</div>"
      ],
      "text/plain": [
       "   start_lat  start_long                                          start_loc  \\\n",
       "0  37.394535 -121.868908  Capitol Avenue @ Camino del Rey, San Jose Park...   \n",
       "1  37.400281 -121.939691                                 3331 N. 1st St VTA   \n",
       "\n",
       "    dest_lat   dest_long            dest_loc  \n",
       "0  37.400281 -121.939691  3331 N. 1st St VTA  \n",
       "1  37.331997 -121.887286   Fairmont San Jose  "
      ]
     },
     "execution_count": 12,
     "metadata": {},
     "output_type": "execute_result"
    }
   ],
   "source": [
    "df.head()\n",
    "#Random From and To pints"
   ]
  },
  {
   "cell_type": "code",
   "execution_count": null,
   "metadata": {
    "collapsed": true
   },
   "outputs": [],
   "source": [
    "#visuals = []\n",
    "#visuals.append(query_string(start_lat = df['start_lat'][row], start_long = df['start_long'][row], dest_lat = df['dest_lat'][row], dest_long=df['dest_long'][row], walk_dist = 10000,visual = True))\n",
    "#df['visual'] = visuals"
   ]
  },
  {
   "cell_type": "code",
   "execution_count": 13,
   "metadata": {
    "collapsed": false
   },
   "outputs": [],
   "source": [
    "def input_params(df, max_walk, walk_reluc_factor, bus_v = True, train_v = True, bike_v = True):\n",
    "    row = 0\n",
    "    times=[]\n",
    "    results = []\n",
    "    queries = []\n",
    "    trips = []\n",
    "    lowest = []\n",
    "    \n",
    "    for each in df.iterrows():\n",
    "        query = query_string(start_lat = df['start_lat'][row], start_long = df['start_long'][row], \n",
    "                             dest_lat = df['dest_lat'][row], dest_long=df['dest_long'][row],\n",
    "                             walk_dist = max_walk, walk_reluc = walk_reluc_factor, bus = bus_v, train = train_v, bike = bike_v)\n",
    "        queries.append(query)\n",
    "        r = requests.get(query)\n",
    "        query_json = json.loads(r.text)\n",
    "        results.append(str(query_json))\n",
    "        one_set_of_times= query_json['debugOutput']['pathTimes']\n",
    "        times.append(one_set_of_times)\n",
    "        row = row + 1\n",
    "    df['times'] = times\n",
    "    \n",
    "    \n",
    "    #Calculate Lowest trip length\n",
    "    for each in df['times']:\n",
    "        trips.append(len(each))\n",
    "        if len(each) != 0:\n",
    "            lowest.append(min(each))\n",
    "        else:\n",
    "            lowest.append(999)\n",
    "    df['trips']=trips\n",
    "    df['lowest']=lowest\n",
    "    \n",
    "    df['queries'] = queries\n",
    "    df['results'] = results\n",
    "    \n",
    "    \n",
    "    return df"
   ]
  },
  {
   "cell_type": "code",
   "execution_count": 18,
   "metadata": {
    "collapsed": false
   },
   "outputs": [
    {
     "name": "stdout",
     "output_type": "stream",
     "text": [
      "start: 2016-07-12 07:00:00\n",
      "end: 2016-07-12 08:47:09\n",
      "duration: 107.15 minutes\n",
      "waitingTime: 0.0 minutes\n",
      "transitTime: 0.0 minutes\n",
      "walkDistance: 5.2035289633287976 miles\n",
      "transfers: 0\n",
      "   StartTime: 2016-07-12 07:00:00 mode: WALK\n",
      "   headsign: None\n",
      "   endTime:   2016-07-12 08:47:09 duration: 107.15\n",
      "start: 2016-07-12 07:02:34\n",
      "end: 2016-07-12 09:11:28\n",
      "duration: 128.9 minutes\n",
      "waitingTime: 0.03333333333333333 minutes\n",
      "transitTime: 2.5 minutes\n",
      "walkDistance: 6.134764482733924 miles\n",
      "transfers: 0\n",
      "   StartTime: 2016-07-12 07:02:34 mode: WALK\n",
      "   headsign: None\n",
      "   endTime:   2016-07-12 08:07:29 duration: 64.91666666666667\n",
      "   StartTime: 2016-07-12 08:07:30 mode: TRAM\n",
      "   headsign: ALUM ROCK\n",
      "   endTime:   2016-07-12 08:10:00 duration: 2.5\n",
      "   StartTime: 2016-07-12 08:10:01 mode: WALK\n",
      "   headsign: None\n",
      "   endTime:   2016-07-12 09:11:28 duration: 61.45\n",
      "start: 2016-07-12 07:17:34\n",
      "end: 2016-07-12 09:26:28\n",
      "duration: 128.9 minutes\n",
      "waitingTime: 0.03333333333333333 minutes\n",
      "transitTime: 2.5 minutes\n",
      "walkDistance: 6.134764482733924 miles\n",
      "transfers: 0\n",
      "   StartTime: 2016-07-12 07:17:34 mode: WALK\n",
      "   headsign: None\n",
      "   endTime:   2016-07-12 08:22:29 duration: 64.91666666666667\n",
      "   StartTime: 2016-07-12 08:22:30 mode: TRAM\n",
      "   headsign: ALUM ROCK\n",
      "   endTime:   2016-07-12 08:25:00 duration: 2.5\n",
      "   StartTime: 2016-07-12 08:25:01 mode: WALK\n",
      "   headsign: None\n",
      "   endTime:   2016-07-12 09:26:28 duration: 61.45\n"
     ]
    }
   ],
   "source": [
    "series=input_params(df, max_walk = 5000, walk_reluc_factor = 2, train_v = True, bike_v = False, bus_v = False)\n",
    "query = series['queries'][0]\n",
    "r = requests.get(query)\n",
    "query_json = json.loads(r.text)\n",
    "print_transit(query_json)"
   ]
  },
  {
   "cell_type": "code",
   "execution_count": 17,
   "metadata": {
    "collapsed": false
   },
   "outputs": [
    {
     "data": {
      "text/plain": [
       "'http://vta2.amigocloud.com/api/otp/plan?date=2016-07-12&time=07%3A0&mode=WALK%2CTRAINISH&fromPlace=37.400281%2C-121.939691&toPlace=37.331997%2C-121.887286&numItineraries=3&maxWalkDistance=5000&bikeSpeed=10&walkReluctance=2&maxTransfers=5&triangleSlopeFactor=0.333&triangleSafetyFactor=0.333&triangleTimeFactor=0.334&optimize=TRIANGLE&arriveBy=false'"
      ]
     },
     "execution_count": 17,
     "metadata": {},
     "output_type": "execute_result"
    }
   ],
   "source": [
    "query"
   ]
  },
  {
   "cell_type": "code",
   "execution_count": null,
   "metadata": {
    "collapsed": true
   },
   "outputs": [],
   "source": [
    "df.to_csv('series.csv')"
   ]
  },
  {
   "cell_type": "code",
   "execution_count": null,
   "metadata": {
    "collapsed": false
   },
   "outputs": [],
   "source": [
    "#'http://docs.python-guide.org/en/latest/scenarios/json/'\n",
    "#query_json['plan']['itineraries'][x]['legs'][y]['legGeometry']"
   ]
  },
  {
   "cell_type": "code",
   "execution_count": null,
   "metadata": {
    "collapsed": true
   },
   "outputs": [],
   "source": [
    "#final = pd.DataFrame([each, every, sum(df['lowest']), sum(df['trips'])], columns = ['walk_dist','walk_reluc','lowest','trips'])\n",
    "#finals.append(final)\n",
    "#finals"
   ]
  },
  {
   "cell_type": "code",
   "execution_count": null,
   "metadata": {
    "collapsed": true
   },
   "outputs": [],
   "source": []
  },
  {
   "cell_type": "code",
   "execution_count": null,
   "metadata": {
    "collapsed": false
   },
   "outputs": [],
   "source": [
    "query"
   ]
  },
  {
   "cell_type": "code",
   "execution_count": null,
   "metadata": {
    "collapsed": false
   },
   "outputs": [],
   "source": [
    "series"
   ]
  },
  {
   "cell_type": "code",
   "execution_count": null,
   "metadata": {
    "collapsed": true
   },
   "outputs": [],
   "source": []
  }
 ],
 "metadata": {
  "kernelspec": {
   "display_name": "Python 3",
   "language": "python",
   "name": "python3"
  },
  "language_info": {
   "codemirror_mode": {
    "name": "ipython",
    "version": 3
   },
   "file_extension": ".py",
   "mimetype": "text/x-python",
   "name": "python",
   "nbconvert_exporter": "python",
   "pygments_lexer": "ipython3",
   "version": "3.5.2"
  }
 },
 "nbformat": 4,
 "nbformat_minor": 0
}

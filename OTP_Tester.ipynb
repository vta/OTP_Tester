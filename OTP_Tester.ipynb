{
 "cells": [
  {
   "cell_type": "markdown",
   "metadata": {},
   "source": [
    "Notebook to test OTP configuration.\n",
    "Written by Vivek\n",
    "Started July 7th, 2016\n",
    "\n",
    "We need to test the different parameters like bike and walk, etc.  Build functions that test numerous locations, settings, and generate times.\n",
    "\n",
    "Current Todos:\n",
    "\n",
    "TODO: Geocode Addresses into GPS using Google\n",
    "\n",
    "TODO: Push resulting data into pandas dataframe"
   ]
  },
  {
   "cell_type": "code",
   "execution_count": 1,
   "metadata": {
    "collapsed": false
   },
   "outputs": [],
   "source": [
    "from datetime import datetime\n",
    "import requests\n",
    "import json\n",
    "import pandas as pd\n",
    "import numpy as np"
   ]
  },
  {
   "cell_type": "markdown",
   "metadata": {},
   "source": [
    "Sample Api Call:\n",
    "http://vta2.amigocloud.com/api/otp/plan?date=2016-07-07&time=23%3A0&mode=WALK%2CBUSISH%2CTRAINISH&fromPlace=37.389268%2C-121.879746&toPlace=37.4031595%2C-121.9865994&numItineraries=3&maxWalkDistance=5000&bikeSpeed=10&walkReluctance=10&maxTransfers=5&triangleSlopeFactor=0.333&triangleSafetyFactor=0.333&triangleTimeFactor=0.334&optimize=TRIANGLE&arriveBy=false"
   ]
  },
  {
   "cell_type": "markdown",
   "metadata": {},
   "source": [
    "http://vta2.amigocloud.com/api/otp/plan?mode=WALK%2CBUSISH%2CTRAINISH&fromPlace=37.4002813%2C-121.9396906&toPlace=37.326763%2C-121.856533&numItineraries=3&maxWalkDistance=5000&bikeSpeed=10&walkReluctance=15&maxTransfers=5&triangleSlopeFactor=0.333&triangleSafetyFactor=0.333&triangleTimeFactor=0.334&optimize=TRIANGLE"
   ]
  },
  {
   "cell_type": "code",
   "execution_count": 2,
   "metadata": {
    "collapsed": true
   },
   "outputs": [],
   "source": [
    "def print_transit(query_json):\n",
    "    for a in query_json['plan']['itineraries']:\n",
    "        print('start: '+ tclean(a['startTime']))\n",
    "        print('end: '+ tclean(a['endTime']))\n",
    "        print('duration: '+ str(a['duration']/60) + ' minutes')\n",
    "        print('waitingTime: '+ str(a['waitingTime']/60) + ' minutes')\n",
    "        print('transitTime: '+ str(a['transitTime']/60) + ' minutes')\n",
    "        print('walkDistance: '+ str(a['walkDistance']/1000*.621371) + ' miles')\n",
    "        print('transfers: '+ str(a['transfers']))\n",
    "        for each in a['legs']:\n",
    "            print('   StartTime: '+ tclean(each['startTime']) + \" mode: \" + each['mode'])\n",
    "            print(\"   headsign: \" + str(each.get('headsign')))\n",
    "            print('   endTime:   ' + tclean(each['endTime']) + \" duration: \" + str(each['duration']/60))    "
   ]
  },
  {
   "cell_type": "code",
   "execution_count": 3,
   "metadata": {
    "collapsed": false
   },
   "outputs": [],
   "source": [
    "rand_starts=pd.read_csv('Rand_Starts.csv')\n",
    "rand_dests=pd.read_csv('Rand_Dests.csv')\n",
    "known_starts=pd.read_csv('Known_Starts.csv')\n",
    "known_dests=pd.read_csv('Known_Dests.csv')\n",
    "\n",
    "df = pd.DataFrame();\n",
    "\n",
    "#df['start_lat'] = rand_starts['Lat']\n",
    "#df['start_long'] = rand_starts['Long']\n",
    "#df['dest_lat'] = rand_dests['Lat']\n",
    "#df['dest_long'] = rand_dests['Long']\n",
    "\n",
    "df['start_lat'] = known_starts['Lat']\n",
    "df['start_long'] = known_starts['Long']\n",
    "df['start_loc']= known_starts['Desc']\n",
    "df['dest_lat'] = known_dests['Lat']\n",
    "df['dest_long'] = known_dests['Long']\n",
    "df['dest_loc'] = known_dests['Desc']"
   ]
  },
  {
   "cell_type": "code",
   "execution_count": 4,
   "metadata": {
    "collapsed": true
   },
   "outputs": [],
   "source": [
    "def tclean(dto):\n",
    "    return str(datetime.fromtimestamp(dto/1000))"
   ]
  },
  {
   "cell_type": "code",
   "execution_count": 5,
   "metadata": {
    "collapsed": false
   },
   "outputs": [
    {
     "data": {
      "text/html": [
       "<div>\n",
       "<table border=\"1\" class=\"dataframe\">\n",
       "  <thead>\n",
       "    <tr style=\"text-align: right;\">\n",
       "      <th></th>\n",
       "      <th>start_lat</th>\n",
       "      <th>start_long</th>\n",
       "      <th>start_loc</th>\n",
       "      <th>dest_lat</th>\n",
       "      <th>dest_long</th>\n",
       "      <th>dest_loc</th>\n",
       "    </tr>\n",
       "  </thead>\n",
       "  <tbody>\n",
       "    <tr>\n",
       "      <th>0</th>\n",
       "      <td>37.394535</td>\n",
       "      <td>-121.868908</td>\n",
       "      <td>Capitol Avenue @ Camino del Rey, San Jose Park...</td>\n",
       "      <td>37.400281</td>\n",
       "      <td>-121.939691</td>\n",
       "      <td>3331 N. 1st St VTA</td>\n",
       "    </tr>\n",
       "    <tr>\n",
       "      <th>1</th>\n",
       "      <td>37.400281</td>\n",
       "      <td>-121.939691</td>\n",
       "      <td>3331 N. 1st St VTA</td>\n",
       "      <td>37.331997</td>\n",
       "      <td>-121.887286</td>\n",
       "      <td>Fairmont San Jose</td>\n",
       "    </tr>\n",
       "    <tr>\n",
       "      <th>2</th>\n",
       "      <td>37.400787</td>\n",
       "      <td>-121.868619</td>\n",
       "      <td>1684 Garvey Pl</td>\n",
       "      <td>37.400281</td>\n",
       "      <td>-121.939691</td>\n",
       "      <td>3331 N. 1st St VTA</td>\n",
       "    </tr>\n",
       "    <tr>\n",
       "      <th>3</th>\n",
       "      <td>37.400281</td>\n",
       "      <td>-121.939691</td>\n",
       "      <td>3331 N. 1st St VTA</td>\n",
       "      <td>37.333539</td>\n",
       "      <td>-121.885089</td>\n",
       "      <td>116 Paseo De San Antonio Walk, San Jose, CA 95...</td>\n",
       "    </tr>\n",
       "  </tbody>\n",
       "</table>\n",
       "</div>"
      ],
      "text/plain": [
       "   start_lat  start_long                                          start_loc  \\\n",
       "0  37.394535 -121.868908  Capitol Avenue @ Camino del Rey, San Jose Park...   \n",
       "1  37.400281 -121.939691                                 3331 N. 1st St VTA   \n",
       "2  37.400787 -121.868619                                     1684 Garvey Pl   \n",
       "3  37.400281 -121.939691                                 3331 N. 1st St VTA   \n",
       "\n",
       "    dest_lat   dest_long                                           dest_loc  \n",
       "0  37.400281 -121.939691                                 3331 N. 1st St VTA  \n",
       "1  37.331997 -121.887286                                  Fairmont San Jose  \n",
       "2  37.400281 -121.939691                                 3331 N. 1st St VTA  \n",
       "3  37.333539 -121.885089  116 Paseo De San Antonio Walk, San Jose, CA 95...  "
      ]
     },
     "execution_count": 5,
     "metadata": {},
     "output_type": "execute_result"
    }
   ],
   "source": [
    "df.head()\n",
    "#Random From and To pints"
   ]
  },
  {
   "cell_type": "code",
   "execution_count": 11,
   "metadata": {
    "collapsed": false
   },
   "outputs": [],
   "source": [
    "row = 0\n",
    "payload = {}\n",
    "payload.update({'fromPlace': '%s,%s' % (df['start_lat'][row],df['start_long'][row])})\n",
    "payload.update({'toPlace': '%s, %s' % (df['dest_lat'][row], + df['dest_long'][row])})\n",
    "payload.update({'mode':'WALK,BUSISH,TRAINISH'})\n",
    "payload.update({'date':'2016-07-13'})\n",
    "payload.update({'time':'09:30'})\n",
    "payload.update({'maxTransfers':3,'optimize':'QUICK'})\n",
    "payload.update({'numItineraries':5})\n",
    "payload.update({'maxWalkDistance':5000})\n",
    "payload.update({'bikeSpeed':10})\n",
    "payload.update({'arriveBy':'false'})\n",
    "#payload.update ({'date': '2016-07-13', 'mode': ['WALK','BUSISH','TRAINISH']})"
   ]
  },
  {
   "cell_type": "code",
   "execution_count": 12,
   "metadata": {
    "collapsed": false
   },
   "outputs": [
    {
     "name": "stdout",
     "output_type": "stream",
     "text": [
      "start: 2016-07-13 09:32:05\n",
      "end: 2016-07-13 10:51:51\n",
      "duration: 79.76666666666667 minutes\n",
      "waitingTime: 0.03333333333333333 minutes\n",
      "transitTime: 15.0 minutes\n",
      "walkDistance: 3.1286825391695934 miles\n",
      "transfers: 0\n",
      "   StartTime: 2016-07-13 09:32:05 mode: WALK\n",
      "   headsign: None\n",
      "   endTime:   2016-07-13 09:33:59 duration: 1.9\n",
      "   StartTime: 2016-07-13 09:34:00 mode: BUS\n",
      "   headsign: 70 GREAT MALL\n",
      "   endTime:   2016-07-13 09:49:00 duration: 15.0\n",
      "   StartTime: 2016-07-13 09:49:01 mode: WALK\n",
      "   headsign: None\n",
      "   endTime:   2016-07-13 10:51:51 duration: 62.833333333333336\n",
      "start: 2016-07-13 09:46:05\n",
      "end: 2016-07-13 11:05:51\n",
      "duration: 79.76666666666667 minutes\n",
      "waitingTime: 0.03333333333333333 minutes\n",
      "transitTime: 15.0 minutes\n",
      "walkDistance: 3.1286825391695934 miles\n",
      "transfers: 0\n",
      "   StartTime: 2016-07-13 09:46:05 mode: WALK\n",
      "   headsign: None\n",
      "   endTime:   2016-07-13 09:47:59 duration: 1.9\n",
      "   StartTime: 2016-07-13 09:48:00 mode: BUS\n",
      "   headsign: 70 GREAT MALL\n",
      "   endTime:   2016-07-13 10:03:00 duration: 15.0\n",
      "   StartTime: 2016-07-13 10:03:01 mode: WALK\n",
      "   headsign: None\n",
      "   endTime:   2016-07-13 11:05:51 duration: 62.833333333333336\n",
      "start: 2016-07-13 10:01:05\n",
      "end: 2016-07-13 11:20:51\n",
      "duration: 79.76666666666667 minutes\n",
      "waitingTime: 0.03333333333333333 minutes\n",
      "transitTime: 15.0 minutes\n",
      "walkDistance: 3.1286825391695934 miles\n",
      "transfers: 0\n",
      "   StartTime: 2016-07-13 10:01:05 mode: WALK\n",
      "   headsign: None\n",
      "   endTime:   2016-07-13 10:02:59 duration: 1.9\n",
      "   StartTime: 2016-07-13 10:03:00 mode: BUS\n",
      "   headsign: 70 GREAT MALL\n",
      "   endTime:   2016-07-13 10:18:00 duration: 15.0\n",
      "   StartTime: 2016-07-13 10:18:01 mode: WALK\n",
      "   headsign: None\n",
      "   endTime:   2016-07-13 11:20:51 duration: 62.833333333333336\n",
      "start: 2016-07-13 10:16:05\n",
      "end: 2016-07-13 11:35:51\n",
      "duration: 79.76666666666667 minutes\n",
      "waitingTime: 0.03333333333333333 minutes\n",
      "transitTime: 15.0 minutes\n",
      "walkDistance: 3.1286825391695934 miles\n",
      "transfers: 0\n",
      "   StartTime: 2016-07-13 10:16:05 mode: WALK\n",
      "   headsign: None\n",
      "   endTime:   2016-07-13 10:17:59 duration: 1.9\n",
      "   StartTime: 2016-07-13 10:18:00 mode: BUS\n",
      "   headsign: 70 GREAT MALL\n",
      "   endTime:   2016-07-13 10:33:00 duration: 15.0\n",
      "   StartTime: 2016-07-13 10:33:01 mode: WALK\n",
      "   headsign: None\n",
      "   endTime:   2016-07-13 11:35:51 duration: 62.833333333333336\n"
     ]
    }
   ],
   "source": [
    "r = requests.get('http://vta2.amigocloud.com/api/otp/plan?', params=payload)\n",
    "#r.text\n",
    "print_transit(r.json())"
   ]
  },
  {
   "cell_type": "code",
   "execution_count": null,
   "metadata": {
    "collapsed": true
   },
   "outputs": [],
   "source": [
    ", '.join([str(x) for x in list])\n",
    "''.join(map(str,list))"
   ]
  }
 ],
 "metadata": {
  "kernelspec": {
   "display_name": "Python 3",
   "language": "python",
   "name": "python3"
  },
  "language_info": {
   "codemirror_mode": {
    "name": "ipython",
    "version": 3
   },
   "file_extension": ".py",
   "mimetype": "text/x-python",
   "name": "python",
   "nbconvert_exporter": "python",
   "pygments_lexer": "ipython3",
   "version": "3.5.1"
  }
 },
 "nbformat": 4,
 "nbformat_minor": 0
}

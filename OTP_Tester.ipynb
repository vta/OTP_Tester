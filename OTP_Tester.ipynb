{
 "cells": [
  {
   "cell_type": "markdown",
   "metadata": {},
   "source": [
    "Notebook to test OTP configuration.\n",
    "Written by Vivek\n",
    "Started July 7th, 2016\n",
    "\n",
    "We need to test the different parameters like bike and walk, etc.  Build functions that test numerous locations, settings, and generate times.\n",
    "\n",
    "Current Todos:\n",
    "\n",
    "TODO: Geocode Addresses into GPS using Google\n",
    "\n",
    "TODO: Push resulting data into pandas dataframe"
   ]
  },
  {
   "cell_type": "code",
   "execution_count": 94,
   "metadata": {
    "collapsed": true
   },
   "outputs": [],
   "source": [
    "import requests\n",
    "import json\n",
    "import pandas as pd"
   ]
  },
  {
   "cell_type": "markdown",
   "metadata": {},
   "source": [
    "Sample Api Call:\n",
    "http://vta2.amigocloud.com/api/otp/plan?date=2016-07-07&time=23%3A0&mode=WALK%2CBUSISH%2CTRAINISH&fromPlace=37.389268%2C-121.879746&toPlace=37.4031595%2C-121.9865994&numItineraries=3&maxWalkDistance=5000&bikeSpeed=10&walkReluctance=10&maxTransfers=5&triangleSlopeFactor=0.333&triangleSafetyFactor=0.333&triangleTimeFactor=0.334&optimize=TRIANGLE&arriveBy=false"
   ]
  },
  {
   "cell_type": "code",
   "execution_count": 95,
   "metadata": {
    "collapsed": false
   },
   "outputs": [],
   "source": [
    "visual = False"
   ]
  },
  {
   "cell_type": "code",
   "execution_count": 96,
   "metadata": {
    "collapsed": false
   },
   "outputs": [],
   "source": [
    "def query_string(visual = False):    \n",
    "    base = 'http://vta2.amigocloud.com'\n",
    "    api = '/api/otp/plan?'\n",
    "    date = 'date=2016-07-07'\n",
    "    time = '&time=23%3A0'\n",
    "    mode = '&mode=WALK%2CBUSISH%2CTRAINISH'\n",
    "    start = '&fromPlace=37.389268%2C-121.879746'\n",
    "    dest = '&toPlace=37.4031595%2C-121.9865994'\n",
    "    num_iter = '&numItineraries=3'\n",
    "    walk = '&maxWalkDistance=5000&'\n",
    "    bike = 'bikeSpeed=10'\n",
    "    walk_reluc = '&walkReluctance=10'\n",
    "    max_tran = '&maxTransfers=5'\n",
    "    triangle = '&triangleSlopeFactor=0.333&triangleSafetyFactor=0.333&triangleTimeFactor=0.334&optimize=TRIANGLE'\n",
    "    arriveby = '&arriveBy=false'\n",
    "    if visual == True:\n",
    "        api = '/planner?'\n",
    "        query = base + api + date + time + mode + start + dest + num_iter + walk + bike + walk_reluc + max_tran + triangle + arriveby\n",
    "    else:\n",
    "        query = base + api + date + time + mode + start + dest + num_iter + walk + bike + walk_reluc + max_tran + triangle + arriveby\n",
    "\n",
    "    return query"
   ]
  },
  {
   "cell_type": "code",
   "execution_count": 168,
   "metadata": {
    "collapsed": false
   },
   "outputs": [],
   "source": [
    "rand_starts=pd.read_csv('Rand_Starts.csv')\n",
    "rand_dests=pd.read_csv('Rand_Dests.csv')"
   ]
  },
  {
   "cell_type": "code",
   "execution_count": 169,
   "metadata": {
    "collapsed": false
   },
   "outputs": [],
   "source": [
    "df = pd.DataFrame()\n",
    "df['start_lat'] = rand_starts['Lat']\n",
    "df['start_long'] = rand_starts['Long']\n",
    "df['dest_lat'] = rand_dests['Lat']\n",
    "df['dest_long'] = rand_dests['Long']"
   ]
  },
  {
   "cell_type": "code",
   "execution_count": 176,
   "metadata": {
    "collapsed": false
   },
   "outputs": [
    {
     "data": {
      "text/html": [
       "<div>\n",
       "<table border=\"1\" class=\"dataframe\">\n",
       "  <thead>\n",
       "    <tr style=\"text-align: right;\">\n",
       "      <th></th>\n",
       "      <th>start_lat</th>\n",
       "      <th>start_long</th>\n",
       "      <th>dest_lat</th>\n",
       "      <th>dest_long</th>\n",
       "    </tr>\n",
       "  </thead>\n",
       "  <tbody>\n",
       "    <tr>\n",
       "      <th>0</th>\n",
       "      <td>37.538234</td>\n",
       "      <td>-121.991302</td>\n",
       "      <td>37.356750</td>\n",
       "      <td>-122.039860</td>\n",
       "    </tr>\n",
       "    <tr>\n",
       "      <th>1</th>\n",
       "      <td>37.126105</td>\n",
       "      <td>-121.672784</td>\n",
       "      <td>37.280022</td>\n",
       "      <td>-121.907950</td>\n",
       "    </tr>\n",
       "    <tr>\n",
       "      <th>2</th>\n",
       "      <td>37.381230</td>\n",
       "      <td>-121.859742</td>\n",
       "      <td>37.356277</td>\n",
       "      <td>-122.058223</td>\n",
       "    </tr>\n",
       "    <tr>\n",
       "      <th>3</th>\n",
       "      <td>37.385547</td>\n",
       "      <td>-121.859570</td>\n",
       "      <td>37.415452</td>\n",
       "      <td>-122.019959</td>\n",
       "    </tr>\n",
       "    <tr>\n",
       "      <th>4</th>\n",
       "      <td>37.293663</td>\n",
       "      <td>-121.812420</td>\n",
       "      <td>37.257288</td>\n",
       "      <td>-121.817952</td>\n",
       "    </tr>\n",
       "  </tbody>\n",
       "</table>\n",
       "</div>"
      ],
      "text/plain": [
       "   start_lat  start_long   dest_lat   dest_long\n",
       "0  37.538234 -121.991302  37.356750 -122.039860\n",
       "1  37.126105 -121.672784  37.280022 -121.907950\n",
       "2  37.381230 -121.859742  37.356277 -122.058223\n",
       "3  37.385547 -121.859570  37.415452 -122.019959\n",
       "4  37.293663 -121.812420  37.257288 -121.817952"
      ]
     },
     "execution_count": 176,
     "metadata": {},
     "output_type": "execute_result"
    }
   ],
   "source": [
    "df.head()"
   ]
  },
  {
   "cell_type": "code",
   "execution_count": 62,
   "metadata": {
    "collapsed": false
   },
   "outputs": [],
   "source": [
    "query = query_string()"
   ]
  },
  {
   "cell_type": "code",
   "execution_count": 74,
   "metadata": {
    "collapsed": false
   },
   "outputs": [
    {
     "data": {
      "text/plain": [
       "'http://vta2.amigocloud.com/api/otp/plan?date=2016-07-07&time=23%3A0&mode=WALK%2CBUSISH%2CTRAINISH&fromPlace=37.389268%2C-121.879746&toPlace=37.4031595%2C-121.9865994&numItineraries=3&maxWalkDistance=5000&bikeSpeed=10&walkReluctance=10&maxTransfers=5&triangleSlopeFactor=0.333&triangleSafetyFactor=0.333&triangleTimeFactor=0.334&optimize=TRIANGLE&arriveBy=false'"
      ]
     },
     "execution_count": 74,
     "metadata": {},
     "output_type": "execute_result"
    }
   ],
   "source": [
    "query"
   ]
  },
  {
   "cell_type": "code",
   "execution_count": 63,
   "metadata": {
    "collapsed": true
   },
   "outputs": [],
   "source": [
    "r = requests.get(query)"
   ]
  },
  {
   "cell_type": "code",
   "execution_count": null,
   "metadata": {
    "collapsed": false
   },
   "outputs": [],
   "source": [
    "r.text"
   ]
  },
  {
   "cell_type": "code",
   "execution_count": 65,
   "metadata": {
    "collapsed": false
   },
   "outputs": [],
   "source": [
    "query_json = json.loads(r.text)"
   ]
  },
  {
   "cell_type": "code",
   "execution_count": 66,
   "metadata": {
    "collapsed": false
   },
   "outputs": [
    {
     "data": {
      "text/plain": [
       "'http://docs.python-guide.org/en/latest/scenarios/json/'"
      ]
     },
     "execution_count": 66,
     "metadata": {},
     "output_type": "execute_result"
    }
   ],
   "source": [
    "'http://docs.python-guide.org/en/latest/scenarios/json/'"
   ]
  },
  {
   "cell_type": "code",
   "execution_count": 86,
   "metadata": {
    "collapsed": false,
    "scrolled": true
   },
   "outputs": [
    {
     "data": {
      "text/plain": [
       "{'pathCalculationTime': 771,\n",
       " 'pathTimes': [7, 579],\n",
       " 'precalculationTime': 22,\n",
       " 'renderingTime': 0,\n",
       " 'timedOut': False,\n",
       " 'totalTime': 793}"
      ]
     },
     "execution_count": 86,
     "metadata": {},
     "output_type": "execute_result"
    }
   ],
   "source": [
    "query_json['debugOutput']"
   ]
  },
  {
   "cell_type": "code",
   "execution_count": 68,
   "metadata": {
    "collapsed": false
   },
   "outputs": [],
   "source": [
    "times= query_json['debugOutput']['pathTimes']"
   ]
  },
  {
   "cell_type": "code",
   "execution_count": 69,
   "metadata": {
    "collapsed": false
   },
   "outputs": [
    {
     "data": {
      "text/plain": [
       "[7, 579]"
      ]
     },
     "execution_count": 69,
     "metadata": {},
     "output_type": "execute_result"
    }
   ],
   "source": [
    "times"
   ]
  },
  {
   "cell_type": "code",
   "execution_count": 73,
   "metadata": {
    "collapsed": false
   },
   "outputs": [
    {
     "data": {
      "text/plain": [
       "2"
      ]
     },
     "execution_count": 73,
     "metadata": {},
     "output_type": "execute_result"
    }
   ],
   "source": [
    "len(times)"
   ]
  },
  {
   "cell_type": "code",
   "execution_count": 92,
   "metadata": {
    "collapsed": true
   },
   "outputs": [],
   "source": [
    "query_viz = query_string(visual = True)"
   ]
  },
  {
   "cell_type": "code",
   "execution_count": 93,
   "metadata": {
    "collapsed": false
   },
   "outputs": [
    {
     "data": {
      "text/plain": [
       "'http://vta2.amigocloud.com/planner?date=2016-07-07&time=23%3A0&mode=WALK%2CBUSISH%2CTRAINISH&fromPlace=37.389268%2C-121.879746&toPlace=37.4031595%2C-121.9865994&numItineraries=3&maxWalkDistance=5000&bikeSpeed=10&walkReluctance=10&maxTransfers=5&triangleSlopeFactor=0.333&triangleSafetyFactor=0.333&triangleTimeFactor=0.334&optimize=TRIANGLE&arriveBy=false'"
      ]
     },
     "execution_count": 93,
     "metadata": {},
     "output_type": "execute_result"
    }
   ],
   "source": [
    "query_viz"
   ]
  },
  {
   "cell_type": "code",
   "execution_count": null,
   "metadata": {
    "collapsed": true
   },
   "outputs": [],
   "source": []
  }
 ],
 "metadata": {
  "kernelspec": {
   "display_name": "Python 3",
   "language": "python",
   "name": "python3"
  },
  "language_info": {
   "codemirror_mode": {
    "name": "ipython",
    "version": 3
   },
   "file_extension": ".py",
   "mimetype": "text/x-python",
   "name": "python",
   "nbconvert_exporter": "python",
   "pygments_lexer": "ipython3",
   "version": "3.5.1"
  }
 },
 "nbformat": 4,
 "nbformat_minor": 0
}

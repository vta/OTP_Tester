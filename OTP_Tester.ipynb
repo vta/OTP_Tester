{
 "cells": [
  {
   "cell_type": "markdown",
   "metadata": {},
   "source": [
    "Notebook to test OTP configuration.\n",
    "Written by Vivek\n",
    "Started July 7th, 2016\n",
    "\n",
    "We need to test the different parameters like bike and walk, etc.  Build functions that test numerous locations, settings, and generate times.\n",
    "\n",
    "Current Todos:\n",
    "\n",
    "TODO: Geocode Addresses into GPS using Google\n",
    "\n",
    "TODO: Push resulting data into pandas dataframe"
   ]
  },
  {
   "cell_type": "code",
   "execution_count": 2,
   "metadata": {
    "collapsed": false
   },
   "outputs": [],
   "source": [
    "from datetime import datetime\n",
    "import requests\n",
    "import json\n",
    "import pandas as pd\n",
    "import numpy as np"
   ]
  },
  {
   "cell_type": "markdown",
   "metadata": {},
   "source": [
    "Sample Api Call:\n",
    "http://vta2.amigocloud.com/api/otp/plan?date=2016-07-07&time=23%3A0&mode=WALK%2CBUSISH%2CTRAINISH&fromPlace=37.389268%2C-121.879746&toPlace=37.4031595%2C-121.9865994&numItineraries=3&maxWalkDistance=5000&bikeSpeed=10&walkReluctance=10&maxTransfers=5&triangleSlopeFactor=0.333&triangleSafetyFactor=0.333&triangleTimeFactor=0.334&optimize=TRIANGLE&arriveBy=false"
   ]
  },
  {
   "cell_type": "markdown",
   "metadata": {},
   "source": [
    "http://vta2.amigocloud.com/api/otp/plan?mode=WALK%2CBUSISH%2CTRAINISH&fromPlace=37.4002813%2C-121.9396906&toPlace=37.326763%2C-121.856533&numItineraries=3&maxWalkDistance=5000&bikeSpeed=10&walkReluctance=15&maxTransfers=5&triangleSlopeFactor=0.333&triangleSafetyFactor=0.333&triangleTimeFactor=0.334&optimize=TRIANGLE"
   ]
  },
  {
   "cell_type": "code",
   "execution_count": 9,
   "metadata": {
    "collapsed": false
   },
   "outputs": [],
   "source": [
    "def query_string(start_lat, start_long, dest_lat, dest_long,\n",
    "                 transit = True, bus = True, train = True, bike = True, walk_dist = 5000, \n",
    "                 optimizeQuick = True,\n",
    "                 walk_reluc = 2, visual = False, max_transfers = 3):\n",
    "    base = 'http://vta2.amigocloud.com'\n",
    "    api = '/api/otp/plan?'\n",
    "    date = 'date=2016-07-13'\n",
    "    ntime = '&time=09%3A0'\n",
    "    #time = '&time=' + time\n",
    "    \n",
    "    if bike:\n",
    "        mode = '&mode=BICYCLE%2C'\n",
    "    else:\n",
    "        mode = '&mode=WALK%2C'\n",
    "    \n",
    "    if transit:\n",
    "        mode = mode + 'TRANSIT'\n",
    "    else:\n",
    "        if bus:\n",
    "            mode = mode + 'BUSISH%2C'\n",
    "        if train:\n",
    "            mode = mode + 'TRAINISH'\n",
    "    #mode = '&mode=WALK%2CBUSISH%2CTRAINISH'\n",
    "    \n",
    "    start = '&fromPlace=' + str(start_lat) + '%2C' + str(start_long)\n",
    "    #start = '&fromPlace=37.389268%2C-121.879746'\n",
    "    dest = '&toPlace=' + str(dest_lat) + '%2C' + str(dest_long)\n",
    "    #dest = '&toPlace=37.4031595%2C-121.9865994'\n",
    "    num_iter = '&numItineraries=3'\n",
    "    \n",
    "    walk = '&maxWalkDistance=' + str(walk_dist) + '&'\n",
    "    \n",
    "    bike = 'bikeSpeed=10'\n",
    "    \n",
    "    \n",
    "    walk_reluctance = '&walkReluctance=' + str(walk_reluc)\n",
    "    max_tran = '&maxTransfers=' + str(max_transfers)\n",
    "    \n",
    "    if optimizeQuick:\n",
    "        triangle = '&optimize=QUICK'\n",
    "    else:\n",
    "        triangle = '&triangleSlopeFactor=0.333&triangleSafetyFactor=0.333&triangleTimeFactor=0.334&optimize=TRIANGLE'\n",
    "    \n",
    "    arriveby = '&arriveBy=false'\n",
    "    \n",
    "    #Visualize doesn't work right at the moment\n",
    "    if visual:\n",
    "        api = '/planner?'\n",
    "        query = base + api + date + time + mode + start + dest + num_iter + walk + bike + walk_reluctance + max_tran + triangle + arriveby\n",
    "    else:\n",
    "        query = base + api + date + time + mode + start + dest + num_iter + walk + bike + walk_reluctance + max_tran + triangle + arriveby\n",
    "\n",
    "    return query"
   ]
  },
  {
   "cell_type": "code",
   "execution_count": 10,
   "metadata": {
    "collapsed": true
   },
   "outputs": [],
   "source": [
    "def print_transit(query_json):\n",
    "    for a in query_json['plan']['itineraries']:\n",
    "        print('start: '+ tclean(a['startTime']))\n",
    "        print('end: '+ tclean(a['endTime']))\n",
    "        print('duration: '+ str(a['duration']/60) + ' minutes')\n",
    "        print('waitingTime: '+ str(a['waitingTime']/60) + ' minutes')\n",
    "        print('transitTime: '+ str(a['transitTime']/60) + ' minutes')\n",
    "        print('walkDistance: '+ str(a['walkDistance']/1000*.621371) + ' miles')\n",
    "        print('transfers: '+ str(a['transfers']))\n",
    "        for each in a['legs']:\n",
    "            print('   StartTime: '+ tclean(each['startTime']) + \" mode: \" + each['mode'])\n",
    "            print(\"   headsign: \" + str(each.get('headsign')))\n",
    "            print('   endTime:   ' + tclean(each['endTime']) + \" duration: \" + str(each['duration']/60))    "
   ]
  },
  {
   "cell_type": "code",
   "execution_count": 11,
   "metadata": {
    "collapsed": false
   },
   "outputs": [
    {
     "data": {
      "text/plain": [
       "'/Users/Vivek/Github/OTP_Tester'"
      ]
     },
     "execution_count": 11,
     "metadata": {},
     "output_type": "execute_result"
    }
   ],
   "source": [
    "import os\n",
    "os.getcwd()"
   ]
  },
  {
   "cell_type": "code",
   "execution_count": null,
   "metadata": {
    "collapsed": false
   },
   "outputs": [],
   "source": []
  },
  {
   "cell_type": "code",
   "execution_count": 12,
   "metadata": {
    "collapsed": false
   },
   "outputs": [],
   "source": [
    "rand_starts=pd.read_csv('Rand_Starts.csv')\n",
    "rand_dests=pd.read_csv('Rand_Dests.csv')\n",
    "known_starts=pd.read_csv('Known_Starts.csv')\n",
    "known_dests=pd.read_csv('Known_Dests.csv')\n",
    "\n",
    "df = pd.DataFrame();\n",
    "\n",
    "#df['start_lat'] = rand_starts['Lat']\n",
    "#df['start_long'] = rand_starts['Long']\n",
    "#df['dest_lat'] = rand_dests['Lat']\n",
    "#df['dest_long'] = rand_dests['Long']\n",
    "\n",
    "df['start_lat'] = known_starts['Lat']\n",
    "df['start_long'] = known_starts['Long']\n",
    "df['start_loc']= known_starts['Desc']\n",
    "df['dest_lat'] = known_dests['Lat']\n",
    "df['dest_long'] = known_dests['Long']\n",
    "df['dest_loc'] = known_dests['Desc']"
   ]
  },
  {
   "cell_type": "code",
   "execution_count": 13,
   "metadata": {
    "collapsed": true
   },
   "outputs": [],
   "source": [
    "def tclean(dto):\n",
    "    return str(datetime.fromtimestamp(dto/1000))"
   ]
  },
  {
   "cell_type": "code",
   "execution_count": 14,
   "metadata": {
    "collapsed": false
   },
   "outputs": [
    {
     "data": {
      "text/html": [
       "<div>\n",
       "<table border=\"1\" class=\"dataframe\">\n",
       "  <thead>\n",
       "    <tr style=\"text-align: right;\">\n",
       "      <th></th>\n",
       "      <th>start_lat</th>\n",
       "      <th>start_long</th>\n",
       "      <th>start_loc</th>\n",
       "      <th>dest_lat</th>\n",
       "      <th>dest_long</th>\n",
       "      <th>dest_loc</th>\n",
       "    </tr>\n",
       "  </thead>\n",
       "  <tbody>\n",
       "    <tr>\n",
       "      <th>0</th>\n",
       "      <td>37.394535</td>\n",
       "      <td>-121.868908</td>\n",
       "      <td>Capitol Avenue @ Camino del Rey, San Jose Park...</td>\n",
       "      <td>37.400281</td>\n",
       "      <td>-121.939691</td>\n",
       "      <td>3331 N. 1st St VTA</td>\n",
       "    </tr>\n",
       "    <tr>\n",
       "      <th>1</th>\n",
       "      <td>37.400281</td>\n",
       "      <td>-121.939691</td>\n",
       "      <td>3331 N. 1st St VTA</td>\n",
       "      <td>37.331997</td>\n",
       "      <td>-121.887286</td>\n",
       "      <td>Fairmont San Jose</td>\n",
       "    </tr>\n",
       "    <tr>\n",
       "      <th>2</th>\n",
       "      <td>37.400787</td>\n",
       "      <td>-121.868619</td>\n",
       "      <td>1684 Garvey Pl</td>\n",
       "      <td>37.400281</td>\n",
       "      <td>-121.939691</td>\n",
       "      <td>3331 N. 1st St VTA</td>\n",
       "    </tr>\n",
       "    <tr>\n",
       "      <th>3</th>\n",
       "      <td>37.400281</td>\n",
       "      <td>-121.939691</td>\n",
       "      <td>3331 N. 1st St VTA</td>\n",
       "      <td>37.333539</td>\n",
       "      <td>-121.885089</td>\n",
       "      <td>116 Paseo De San Antonio Walk, San Jose, CA 95...</td>\n",
       "    </tr>\n",
       "  </tbody>\n",
       "</table>\n",
       "</div>"
      ],
      "text/plain": [
       "   start_lat  start_long                                          start_loc  \\\n",
       "0  37.394535 -121.868908  Capitol Avenue @ Camino del Rey, San Jose Park...   \n",
       "1  37.400281 -121.939691                                 3331 N. 1st St VTA   \n",
       "2  37.400787 -121.868619                                     1684 Garvey Pl   \n",
       "3  37.400281 -121.939691                                 3331 N. 1st St VTA   \n",
       "\n",
       "    dest_lat   dest_long                                           dest_loc  \n",
       "0  37.400281 -121.939691                                 3331 N. 1st St VTA  \n",
       "1  37.331997 -121.887286                                  Fairmont San Jose  \n",
       "2  37.400281 -121.939691                                 3331 N. 1st St VTA  \n",
       "3  37.333539 -121.885089  116 Paseo De San Antonio Walk, San Jose, CA 95...  "
      ]
     },
     "execution_count": 14,
     "metadata": {},
     "output_type": "execute_result"
    }
   ],
   "source": [
    "df.head()\n",
    "#Random From and To pints"
   ]
  },
  {
   "cell_type": "code",
   "execution_count": 15,
   "metadata": {
    "collapsed": true
   },
   "outputs": [],
   "source": [
    "#visuals = []\n",
    "#visuals.append(query_string(start_lat = df['start_lat'][row], start_long = df['start_long'][row], dest_lat = df['dest_lat'][row], dest_long=df['dest_long'][row], walk_dist = 10000,visual = True))\n",
    "#df['visual'] = visuals"
   ]
  },
  {
   "cell_type": "code",
   "execution_count": 16,
   "metadata": {
    "collapsed": false
   },
   "outputs": [],
   "source": [
    "def input_params(df, max_walk, walk_reluc_factor, transit = True, bus_v = True, train_v = True, bike_v = True):\n",
    "    row = 0\n",
    "    times=[]\n",
    "    results = []\n",
    "    queries = []\n",
    "    trips = []\n",
    "    lowest = []\n",
    "    \n",
    "    for each in df.iterrows():\n",
    "        query = query_string(start_lat = df['start_lat'][row], start_long = df['start_long'][row], \n",
    "                             dest_lat = df['dest_lat'][row], dest_long=df['dest_long'][row],\n",
    "                             walk_dist = max_walk, walk_reluc = walk_reluc_factor, \n",
    "                             transit = transit, bus = bus_v, train = train_v, bike = bike_v)\n",
    "        queries.append(query)\n",
    "        r = requests.get(query)\n",
    "        query_json = json.loads(r.text)\n",
    "        results.append(str(query_json))\n",
    "        one_set_of_times= query_json['debugOutput']['pathTimes']\n",
    "        times.append(one_set_of_times)\n",
    "        row = row + 1\n",
    "    df['times'] = times\n",
    "    \n",
    "    \n",
    "    #Calculate Lowest trip length\n",
    "    for each in df['times']:\n",
    "        trips.append(len(each))\n",
    "        if len(each) != 0:\n",
    "            lowest.append(min(each))\n",
    "        else:\n",
    "            lowest.append(999)\n",
    "    df['trips']=trips\n",
    "    df['lowest']=lowest\n",
    "    \n",
    "    df['queries'] = queries\n",
    "    df['results'] = results\n",
    "    \n",
    "    \n",
    "    return df"
   ]
  },
  {
   "cell_type": "code",
   "execution_count": 60,
   "metadata": {
    "collapsed": false,
    "scrolled": true
   },
   "outputs": [
    {
     "name": "stdout",
     "output_type": "stream",
     "text": [
      "start: 2016-07-13 09:14:39\n",
      "end: 2016-07-13 09:47:48\n",
      "duration: 33.15 minutes\n",
      "waitingTime: 0.03333333333333333 minutes\n",
      "transitTime: 25.5 minutes\n",
      "walkDistance: 0.3550073748388413 miles\n",
      "transfers: 0\n",
      "   StartTime: 2016-07-13 09:14:39 mode: WALK\n",
      "   headsign: None\n",
      "   endTime:   2016-07-13 09:18:59 duration: 4.333333333333333\n",
      "   StartTime: 2016-07-13 09:19:00 mode: TRAM\n",
      "   headsign: SANTA TERESA\n",
      "   endTime:   2016-07-13 09:44:30 duration: 25.5\n",
      "   StartTime: 2016-07-13 09:44:31 mode: WALK\n",
      "   headsign: None\n",
      "   endTime:   2016-07-13 09:47:48 duration: 3.283333333333333\n",
      "start: 2016-07-13 09:24:39\n",
      "end: 2016-07-13 09:57:48\n",
      "duration: 33.15 minutes\n",
      "waitingTime: 0.03333333333333333 minutes\n",
      "transitTime: 25.5 minutes\n",
      "walkDistance: 0.3550073748388413 miles\n",
      "transfers: 0\n",
      "   StartTime: 2016-07-13 09:24:39 mode: WALK\n",
      "   headsign: None\n",
      "   endTime:   2016-07-13 09:28:59 duration: 4.333333333333333\n",
      "   StartTime: 2016-07-13 09:29:00 mode: TRAM\n",
      "   headsign: WINCHESTER\n",
      "   endTime:   2016-07-13 09:54:30 duration: 25.5\n",
      "   StartTime: 2016-07-13 09:54:31 mode: WALK\n",
      "   headsign: None\n",
      "   endTime:   2016-07-13 09:57:48 duration: 3.283333333333333\n",
      "start: 2016-07-13 09:29:39\n",
      "end: 2016-07-13 10:02:48\n",
      "duration: 33.15 minutes\n",
      "waitingTime: 0.03333333333333333 minutes\n",
      "transitTime: 25.5 minutes\n",
      "walkDistance: 0.3550073748388413 miles\n",
      "transfers: 0\n",
      "   StartTime: 2016-07-13 09:29:39 mode: WALK\n",
      "   headsign: None\n",
      "   endTime:   2016-07-13 09:33:59 duration: 4.333333333333333\n",
      "   StartTime: 2016-07-13 09:34:00 mode: TRAM\n",
      "   headsign: SANTA TERESA\n",
      "   endTime:   2016-07-13 09:59:30 duration: 25.5\n",
      "   StartTime: 2016-07-13 09:59:31 mode: WALK\n",
      "   headsign: None\n",
      "   endTime:   2016-07-13 10:02:48 duration: 3.283333333333333\n"
     ]
    }
   ],
   "source": [
    "series=input_params(df, max_walk = 5000, walk_reluc_factor = 10, transit = False, train_v = True, bike_v = False, bus_v = True)\n",
    "query = series['queries'][1]\n",
    "r = requests.get(query)\n",
    "query_json = json.loads(r.text)\n",
    "print_transit(query_json)"
   ]
  },
  {
   "cell_type": "code",
   "execution_count": 53,
   "metadata": {
    "collapsed": false
   },
   "outputs": [
    {
     "data": {
      "text/plain": [
       "'http://vta2.amigocloud.com/api/otp/plan?date=2016-07-13&time=09%3A0&mode=WALK%2CTRANSIT&fromPlace=37.400281%2C-121.939691&toPlace=37.3335387%2C-121.8850891&numItineraries=3&maxWalkDistance=5000&bikeSpeed=10&walkReluctance=10&maxTransfers=3&optimize=QUICK&arriveBy=false'"
      ]
     },
     "execution_count": 53,
     "metadata": {},
     "output_type": "execute_result"
    }
   ],
   "source": [
    "query"
   ]
  },
  {
   "cell_type": "code",
   "execution_count": 67,
   "metadata": {
    "collapsed": false
   },
   "outputs": [
    {
     "ename": "KeyError",
     "evalue": "'plan'",
     "output_type": "error",
     "traceback": [
      "\u001b[0;31m---------------------------------------------------------------------------\u001b[0m",
      "\u001b[0;31mKeyError\u001b[0m                                  Traceback (most recent call last)",
      "\u001b[0;32m<ipython-input-67-4accfe54d942>\u001b[0m in \u001b[0;36m<module>\u001b[0;34m()\u001b[0m\n\u001b[1;32m      3\u001b[0m \u001b[0mr\u001b[0m \u001b[0;34m=\u001b[0m \u001b[0mrequests\u001b[0m\u001b[0;34m.\u001b[0m\u001b[0mget\u001b[0m\u001b[0;34m(\u001b[0m\u001b[0mquery\u001b[0m\u001b[0;34m)\u001b[0m\u001b[0;34m\u001b[0m\u001b[0m\n\u001b[1;32m      4\u001b[0m \u001b[0mquery_json\u001b[0m \u001b[0;34m=\u001b[0m \u001b[0mjson\u001b[0m\u001b[0;34m.\u001b[0m\u001b[0mloads\u001b[0m\u001b[0;34m(\u001b[0m\u001b[0mr\u001b[0m\u001b[0;34m.\u001b[0m\u001b[0mtext\u001b[0m\u001b[0;34m)\u001b[0m\u001b[0;34m\u001b[0m\u001b[0m\n\u001b[0;32m----> 5\u001b[0;31m \u001b[0mprint_transit\u001b[0m\u001b[0;34m(\u001b[0m\u001b[0mquery_json\u001b[0m\u001b[0;34m)\u001b[0m\u001b[0;34m\u001b[0m\u001b[0m\n\u001b[0m",
      "\u001b[0;32m<ipython-input-43-4c092fea7536>\u001b[0m in \u001b[0;36mprint_transit\u001b[0;34m(query_json)\u001b[0m\n\u001b[1;32m      1\u001b[0m \u001b[0;32mdef\u001b[0m \u001b[0mprint_transit\u001b[0m\u001b[0;34m(\u001b[0m\u001b[0mquery_json\u001b[0m\u001b[0;34m)\u001b[0m\u001b[0;34m:\u001b[0m\u001b[0;34m\u001b[0m\u001b[0m\n\u001b[0;32m----> 2\u001b[0;31m     \u001b[0;32mfor\u001b[0m \u001b[0ma\u001b[0m \u001b[0;32min\u001b[0m \u001b[0mquery_json\u001b[0m\u001b[0;34m[\u001b[0m\u001b[0;34m'plan'\u001b[0m\u001b[0;34m]\u001b[0m\u001b[0;34m[\u001b[0m\u001b[0;34m'itineraries'\u001b[0m\u001b[0;34m]\u001b[0m\u001b[0;34m:\u001b[0m\u001b[0;34m\u001b[0m\u001b[0m\n\u001b[0m\u001b[1;32m      3\u001b[0m         \u001b[0mprint\u001b[0m\u001b[0;34m(\u001b[0m\u001b[0;34m'start: '\u001b[0m\u001b[0;34m+\u001b[0m \u001b[0mtclean\u001b[0m\u001b[0;34m(\u001b[0m\u001b[0ma\u001b[0m\u001b[0;34m[\u001b[0m\u001b[0;34m'startTime'\u001b[0m\u001b[0;34m]\u001b[0m\u001b[0;34m)\u001b[0m\u001b[0;34m)\u001b[0m\u001b[0;34m\u001b[0m\u001b[0m\n\u001b[1;32m      4\u001b[0m         \u001b[0mprint\u001b[0m\u001b[0;34m(\u001b[0m\u001b[0;34m'end: '\u001b[0m\u001b[0;34m+\u001b[0m \u001b[0mtclean\u001b[0m\u001b[0;34m(\u001b[0m\u001b[0ma\u001b[0m\u001b[0;34m[\u001b[0m\u001b[0;34m'endTime'\u001b[0m\u001b[0;34m]\u001b[0m\u001b[0;34m)\u001b[0m\u001b[0;34m)\u001b[0m\u001b[0;34m\u001b[0m\u001b[0m\n\u001b[1;32m      5\u001b[0m         \u001b[0mprint\u001b[0m\u001b[0;34m(\u001b[0m\u001b[0;34m'duration: '\u001b[0m\u001b[0;34m+\u001b[0m \u001b[0mstr\u001b[0m\u001b[0;34m(\u001b[0m\u001b[0ma\u001b[0m\u001b[0;34m[\u001b[0m\u001b[0;34m'duration'\u001b[0m\u001b[0;34m]\u001b[0m\u001b[0;34m/\u001b[0m\u001b[0;36m60\u001b[0m\u001b[0;34m)\u001b[0m \u001b[0;34m+\u001b[0m \u001b[0;34m' minutes'\u001b[0m\u001b[0;34m)\u001b[0m\u001b[0;34m\u001b[0m\u001b[0m\n",
      "\u001b[0;31mKeyError\u001b[0m: 'plan'"
     ]
    }
   ],
   "source": [
    "series=input_params(df, max_walk = 1207, walk_reluc_factor = 15, transit = False, train_v = True, bike_v = False, bus_v = False)\n",
    "query = series['queries'][1]\n",
    "r = requests.get(query)\n",
    "query_json = json.loads(r.text)\n",
    "print_transit(query_json)"
   ]
  },
  {
   "cell_type": "code",
   "execution_count": 3,
   "metadata": {
    "collapsed": false
   },
   "outputs": [],
   "source": [
    ">>> payload = {'key1': 'value1', 'key2': 'value2'}\n",
    ">>> r = requests.get('http://httpbin.org/get', params=payload)"
   ]
  },
  {
   "cell_type": "code",
   "execution_count": 5,
   "metadata": {
    "collapsed": false,
    "scrolled": true
   },
   "outputs": [
    {
     "data": {
      "text/plain": [
       "'{\"requestParameters\":{\"mode\":\"WALK\",\"date\":\"2016-07-13\"},\"error\":{\"id\":400,\"msg\":\"Trip is not possible.  You might be trying to plan a trip outside the map data boundary.\",\"message\":\"OUTSIDE_BOUNDS\",\"missing\":[\"from\",\"to\"],\"noPath\":true},\"debugOutput\":{\"precalculationTime\":0,\"pathCalculationTime\":0,\"pathTimes\":[],\"renderingTime\":0,\"totalTime\":0,\"timedOut\":false}}'"
      ]
     },
     "execution_count": 5,
     "metadata": {},
     "output_type": "execute_result"
    }
   ],
   "source": [
    "payload = {'date': '2016-07-13', 'mode': ['WALK','BUSISH','TRAINISH']}\n",
    "r = requests.get('http://vta2.amigocloud.com/api/otp/plan?', params=payload)\n",
    "r.text"
   ]
  },
  {
   "cell_type": "code",
   "execution_count": 54,
   "metadata": {
    "collapsed": false
   },
   "outputs": [],
   "source": [
    "payload.update({'fromPlace': str(df['start_lat'][0]) + ',' + str(df['start_long'][0])})"
   ]
  },
  {
   "cell_type": "code",
   "execution_count": 57,
   "metadata": {
    "collapsed": false
   },
   "outputs": [],
   "source": [
    "payload.update({'toPlace':str(df['dest_lat'][0]) + ',' + str(df['dest_long'][0])})"
   ]
  },
  {
   "cell_type": "code",
   "execution_count": 59,
   "metadata": {
    "collapsed": false
   },
   "outputs": [
    {
     "data": {
      "text/plain": [
       "\"['WALK', 'BUSISH', 'TRAINISH']\""
      ]
     },
     "execution_count": 59,
     "metadata": {},
     "output_type": "execute_result"
    }
   ],
   "source": [
    "str(['WALK','BUSISH','TRAINISH'])"
   ]
  },
  {
   "cell_type": "code",
   "execution_count": 56,
   "metadata": {
    "collapsed": false
   },
   "outputs": [
    {
     "data": {
      "text/plain": [
       "'{\"requestParameters\":{\"mode\":\"WALK\",\"date\":\"2016-07-13\",\"fromPlace\":\"37.394535,-121.868908\",\"toPlace\":\"37.400281,-121.939691\"},\"plan\":{\"date\":1468450661000,\"from\":{\"name\":\"corner of Camino del Rey and North Capitol Avenue\",\"lon\":-121.868908,\"lat\":37.394535,\"orig\":\"\",\"vertexType\":\"NORMAL\"},\"to\":{\"name\":\"parking aisle\",\"lon\":-121.93975519745304,\"lat\":37.40064728290023,\"orig\":\"\",\"vertexType\":\"NORMAL\"},\"itineraries\":[{\"duration\":6429,\"startTime\":1468450661000,\"endTime\":1468457090000,\"walkTime\":6429,\"transitTime\":0,\"waitingTime\":0,\"walkDistance\":8374.270706757794,\"walkLimitExceeded\":true,\"elevationLost\":0.0,\"elevationGained\":0.0,\"transfers\":0,\"legs\":[{\"startTime\":1468450661000,\"endTime\":1468457090000,\"departureDelay\":0,\"arrivalDelay\":0,\"realTime\":false,\"distance\":8373.988,\"pathway\":false,\"mode\":\"WALK\",\"route\":\"\",\"agencyTimeZoneOffset\":-25200000,\"interlineWithPreviousLeg\":false,\"from\":{\"name\":\"corner of Camino del Rey and North Capitol Avenue\",\"lon\":-121.868908,\"lat\":37.394535,\"departure\":1468450661000,\"orig\":\"\",\"vertexType\":\"NORMAL\"},\"to\":{\"name\":\"parking aisle\",\"lon\":-121.93975519745304,\"lat\":37.40064728290023,\"arrival\":1468457090000,\"orig\":\"\",\"vertexType\":\"NORMAL\"},\"legGeometry\":{\"points\":\"{rfcF~oyfViApBYb@}@tAOTKPgAbBiBzC_@n@UViAnBcA`BaAhBuDxGw@rAsAdCkDhGi@bAwBbEcAbBoA~BUZiAfBmAzBe@|@Q\\\\\\\\gArBQZ}DvHEJ{AnCw@zAeD`GiEvHuAhCKP_AbBw@~AIVy@tBuCvHsElLSl@]z@qAjDwBxFwA|DqBtFaBxDiBjEYn@Wh@S`@a@t@_B`DgApB}@nB[`AQn@Kf@SbAE`@Cd@C`AEdF?d@A~AIbQAdA?h@?V?P@^Bx@D|@Ft@@PD`@Jv@^fCHf@BN`@|BVvALn@Jb@Rp@Vr@Zl@Xh@Zd@??Xb@X^Z^^h@RTvClDRVRT`@h@`@f@\\\\\\\\h@^p@\\\\\\\\p@Vl@Vn@Pn@Pr@Nt@@@Jp@Jv@Fb@Bb@HhABp@Dv@?T@l@@T@v@@v@@r@Ap@Et@Ep@Ix@Kv@Kp@Oz@Qv@a@dB{A`GYjAI`@NFB?^LNBPBP@D@JAZCjA@f@?\\\\\\\\Ch@E^ArA?`B?J?J?`B?TAtB?R?~C?tA?V@PBRDRFdCr@LDbFvAl@JfAXuBvMw@zEMzDHbB@VD\\\\\\\\VnANb@BHlApCZt@xBhFjAjCn@|Av@hBPb@d@nABHHLBDPLvAxDXOJGd@W`@g@h@g@VS?K\",\"length\":198},\"rentedBike\":false,\"transitLeg\":false,\"duration\":6429.0,\"steps\":[{\"distance\":2365.537,\"relativeDirection\":\"DEPART\",\"streetName\":\"North Capitol Avenue\",\"absoluteDirection\":\"NORTHWEST\",\"stayOn\":false,\"area\":false,\"bogusName\":false,\"lon\":-121.8689506,\"lat\":37.3945413,\"elevation\":[]},{\"distance\":457.945,\"relativeDirection\":\"CONTINUE\",\"streetName\":\"East Capitol Avenue\",\"absoluteDirection\":\"NORTHWEST\",\"stayOn\":false,\"area\":false,\"bogusName\":false,\"lon\":-121.8897173,\"lat\":37.4079606,\"elevation\":[]},{\"distance\":1869.406,\"relativeDirection\":\"CONTINUE\",\"streetName\":\"Great Mall Parkway\",\"absoluteDirection\":\"NORTHWEST\",\"stayOn\":false,\"area\":false,\"bogusName\":false,\"lon\":-121.8941342,\"lat\":37.4101174,\"elevation\":[]},{\"distance\":1492.2680000000003,\"relativeDirection\":\"CONTINUE\",\"streetName\":\"East Tasman Drive\",\"absoluteDirection\":\"WEST\",\"stayOn\":false,\"area\":false,\"bogusName\":false,\"lon\":-121.9132707,\"lat\":37.415277,\"elevation\":[]},{\"distance\":936.5330000000001,\"relativeDirection\":\"LEFT\",\"streetName\":\"Cisco Way\",\"absoluteDirection\":\"SOUTH\",\"stayOn\":false,\"area\":false,\"bogusName\":false,\"lon\":-121.928051,\"lat\":37.4121158,\"elevation\":[]},{\"distance\":1032.432,\"relativeDirection\":\"RIGHT\",\"streetName\":\"River Oaks Parkway\",\"absoluteDirection\":\"WEST\",\"stayOn\":false,\"area\":false,\"bogusName\":false,\"lon\":-121.9291553,\"lat\":37.4038315,\"elevation\":[]},{\"distance\":95.72,\"relativeDirection\":\"SLIGHTLY_RIGHT\",\"streetName\":\"River Oaks Place\",\"absoluteDirection\":\"SOUTHWEST\",\"stayOn\":false,\"area\":false,\"bogusName\":false,\"lon\":-121.9396231,\"lat\":37.4019623,\"elevation\":[]},{\"distance\":124.14700000000002,\"relativeDirection\":\"LEFT\",\"streetName\":\"parking aisle\",\"absoluteDirection\":\"SOUTHEAST\",\"stayOn\":false,\"area\":false,\"bogusName\":true,\"lon\":-121.9405596,\"lat\":37.4015292,\"elevation\":[]}]}],\"tooSloped\":false}]},\"debugOutput\":{\"precalculationTime\":0,\"pathCalculationTime\":27,\"pathTimes\":[27],\"renderingTime\":1,\"totalTime\":28,\"timedOut\":false}}'"
      ]
     },
     "execution_count": 56,
     "metadata": {},
     "output_type": "execute_result"
    }
   ],
   "source": [
    "r = requests.get('http://vta2.amigocloud.com/api/otp/plan?', params=payload)\n",
    "r.text"
   ]
  },
  {
   "cell_type": "code",
   "execution_count": 58,
   "metadata": {
    "collapsed": false
   },
   "outputs": [
    {
     "data": {
      "text/plain": [
       "{'debugOutput': {'pathCalculationTime': 27,\n",
       "  'pathTimes': [27],\n",
       "  'precalculationTime': 0,\n",
       "  'renderingTime': 1,\n",
       "  'timedOut': False,\n",
       "  'totalTime': 28},\n",
       " 'plan': {'date': 1468450661000,\n",
       "  'from': {'lat': 37.394535,\n",
       "   'lon': -121.868908,\n",
       "   'name': 'corner of Camino del Rey and North Capitol Avenue',\n",
       "   'orig': '',\n",
       "   'vertexType': 'NORMAL'},\n",
       "  'itineraries': [{'duration': 6429,\n",
       "    'elevationGained': 0.0,\n",
       "    'elevationLost': 0.0,\n",
       "    'endTime': 1468457090000,\n",
       "    'legs': [{'agencyTimeZoneOffset': -25200000,\n",
       "      'arrivalDelay': 0,\n",
       "      'departureDelay': 0,\n",
       "      'distance': 8373.988,\n",
       "      'duration': 6429.0,\n",
       "      'endTime': 1468457090000,\n",
       "      'from': {'departure': 1468450661000,\n",
       "       'lat': 37.394535,\n",
       "       'lon': -121.868908,\n",
       "       'name': 'corner of Camino del Rey and North Capitol Avenue',\n",
       "       'orig': '',\n",
       "       'vertexType': 'NORMAL'},\n",
       "      'interlineWithPreviousLeg': False,\n",
       "      'legGeometry': {'length': 198,\n",
       "       'points': '{rfcF~oyfViApBYb@}@tAOTKPgAbBiBzC_@n@UViAnBcA`BaAhBuDxGw@rAsAdCkDhGi@bAwBbEcAbBoA~BUZiAfBmAzBe@|@Q\\\\gArBQZ}DvHEJ{AnCw@zAeD`GiEvHuAhCKP_AbBw@~AIVy@tBuCvHsElLSl@]z@qAjDwBxFwA|DqBtFaBxDiBjEYn@Wh@S`@a@t@_B`DgApB}@nB[`AQn@Kf@SbAE`@Cd@C`AEdF?d@A~AIbQAdA?h@?V?P@^Bx@D|@Ft@@PD`@Jv@^fCHf@BN`@|BVvALn@Jb@Rp@Vr@Zl@Xh@Zd@??Xb@X^Z^^h@RTvClDRVRT`@h@`@f@\\\\h@^p@\\\\p@Vl@Vn@Pn@Pr@Nt@@@Jp@Jv@Fb@Bb@HhABp@Dv@?T@l@@T@v@@v@@r@Ap@Et@Ep@Ix@Kv@Kp@Oz@Qv@a@dB{A`GYjAI`@NFB?^LNBPBP@D@JAZCjA@f@?\\\\Ch@E^ArA?`B?J?J?`B?TAtB?R?~C?tA?V@PBRDRFdCr@LDbFvAl@JfAXuBvMw@zEMzDHbB@VD\\\\VnANb@BHlApCZt@xBhFjAjCn@|Av@hBPb@d@nABHHLBDPLvAxDXOJGd@W`@g@h@g@VS?K'},\n",
       "      'mode': 'WALK',\n",
       "      'pathway': False,\n",
       "      'realTime': False,\n",
       "      'rentedBike': False,\n",
       "      'route': '',\n",
       "      'startTime': 1468450661000,\n",
       "      'steps': [{'absoluteDirection': 'NORTHWEST',\n",
       "        'area': False,\n",
       "        'bogusName': False,\n",
       "        'distance': 2365.537,\n",
       "        'elevation': [],\n",
       "        'lat': 37.3945413,\n",
       "        'lon': -121.8689506,\n",
       "        'relativeDirection': 'DEPART',\n",
       "        'stayOn': False,\n",
       "        'streetName': 'North Capitol Avenue'},\n",
       "       {'absoluteDirection': 'NORTHWEST',\n",
       "        'area': False,\n",
       "        'bogusName': False,\n",
       "        'distance': 457.945,\n",
       "        'elevation': [],\n",
       "        'lat': 37.4079606,\n",
       "        'lon': -121.8897173,\n",
       "        'relativeDirection': 'CONTINUE',\n",
       "        'stayOn': False,\n",
       "        'streetName': 'East Capitol Avenue'},\n",
       "       {'absoluteDirection': 'NORTHWEST',\n",
       "        'area': False,\n",
       "        'bogusName': False,\n",
       "        'distance': 1869.406,\n",
       "        'elevation': [],\n",
       "        'lat': 37.4101174,\n",
       "        'lon': -121.8941342,\n",
       "        'relativeDirection': 'CONTINUE',\n",
       "        'stayOn': False,\n",
       "        'streetName': 'Great Mall Parkway'},\n",
       "       {'absoluteDirection': 'WEST',\n",
       "        'area': False,\n",
       "        'bogusName': False,\n",
       "        'distance': 1492.2680000000003,\n",
       "        'elevation': [],\n",
       "        'lat': 37.415277,\n",
       "        'lon': -121.9132707,\n",
       "        'relativeDirection': 'CONTINUE',\n",
       "        'stayOn': False,\n",
       "        'streetName': 'East Tasman Drive'},\n",
       "       {'absoluteDirection': 'SOUTH',\n",
       "        'area': False,\n",
       "        'bogusName': False,\n",
       "        'distance': 936.5330000000001,\n",
       "        'elevation': [],\n",
       "        'lat': 37.4121158,\n",
       "        'lon': -121.928051,\n",
       "        'relativeDirection': 'LEFT',\n",
       "        'stayOn': False,\n",
       "        'streetName': 'Cisco Way'},\n",
       "       {'absoluteDirection': 'WEST',\n",
       "        'area': False,\n",
       "        'bogusName': False,\n",
       "        'distance': 1032.432,\n",
       "        'elevation': [],\n",
       "        'lat': 37.4038315,\n",
       "        'lon': -121.9291553,\n",
       "        'relativeDirection': 'RIGHT',\n",
       "        'stayOn': False,\n",
       "        'streetName': 'River Oaks Parkway'},\n",
       "       {'absoluteDirection': 'SOUTHWEST',\n",
       "        'area': False,\n",
       "        'bogusName': False,\n",
       "        'distance': 95.72,\n",
       "        'elevation': [],\n",
       "        'lat': 37.4019623,\n",
       "        'lon': -121.9396231,\n",
       "        'relativeDirection': 'SLIGHTLY_RIGHT',\n",
       "        'stayOn': False,\n",
       "        'streetName': 'River Oaks Place'},\n",
       "       {'absoluteDirection': 'SOUTHEAST',\n",
       "        'area': False,\n",
       "        'bogusName': True,\n",
       "        'distance': 124.14700000000002,\n",
       "        'elevation': [],\n",
       "        'lat': 37.4015292,\n",
       "        'lon': -121.9405596,\n",
       "        'relativeDirection': 'LEFT',\n",
       "        'stayOn': False,\n",
       "        'streetName': 'parking aisle'}],\n",
       "      'to': {'arrival': 1468457090000,\n",
       "       'lat': 37.40064728290023,\n",
       "       'lon': -121.93975519745304,\n",
       "       'name': 'parking aisle',\n",
       "       'orig': '',\n",
       "       'vertexType': 'NORMAL'},\n",
       "      'transitLeg': False}],\n",
       "    'startTime': 1468450661000,\n",
       "    'tooSloped': False,\n",
       "    'transfers': 0,\n",
       "    'transitTime': 0,\n",
       "    'waitingTime': 0,\n",
       "    'walkDistance': 8374.270706757794,\n",
       "    'walkLimitExceeded': True,\n",
       "    'walkTime': 6429}],\n",
       "  'to': {'lat': 37.40064728290023,\n",
       "   'lon': -121.93975519745304,\n",
       "   'name': 'parking aisle',\n",
       "   'orig': '',\n",
       "   'vertexType': 'NORMAL'}},\n",
       " 'requestParameters': {'date': '2016-07-13',\n",
       "  'fromPlace': '37.394535,-121.868908',\n",
       "  'mode': 'WALK',\n",
       "  'toPlace': '37.400281,-121.939691'}}"
      ]
     },
     "execution_count": 58,
     "metadata": {},
     "output_type": "execute_result"
    }
   ],
   "source": [
    "r.json()"
   ]
  },
  {
   "cell_type": "code",
   "execution_count": null,
   "metadata": {
    "collapsed": true
   },
   "outputs": [],
   "source": [
    "### Making a dictionary ###\n",
    "\n",
    "data = {}\n",
    "# OR\n",
    "data = dict()\n",
    "\n",
    "### Initially adding values ###\n",
    "\n",
    "data = {'a':1,'b':2,'c':3}\n",
    "# OR\n",
    "data = dict(a=1, b=2, c=3)\n",
    "\n",
    "### Inserting/Updating value ###\n",
    "\n",
    "data['a']=1  # updates if 'a' exists, else adds 'a'\n",
    "# OR\n",
    "data.update({'a':1})\n",
    "# OR\n",
    "data.update(dict(a=1))\n",
    "# OR\n",
    "data.update(a=1)\n",
    "\n",
    "### Merging 2 dictionaries ###\n",
    "\n",
    "data.update(data2)  # Where data2 is also a dict.\n",
    "\n",
    "### Deleting items in dictionary ###\n",
    "\n",
    "del data[key] #Remove specific element in a dictionary\n",
    "data.pop(key) #Removes the key & returns the value\n",
    "data.clear() #Clear entire dictionary\n"
   ]
  }
 ],
 "metadata": {
  "kernelspec": {
   "display_name": "Python 3",
   "language": "python",
   "name": "python3"
  },
  "language_info": {
   "codemirror_mode": {
    "name": "ipython",
    "version": 3
   },
   "file_extension": ".py",
   "mimetype": "text/x-python",
   "name": "python",
   "nbconvert_exporter": "python",
   "pygments_lexer": "ipython3",
   "version": "3.5.1"
  }
 },
 "nbformat": 4,
 "nbformat_minor": 0
}

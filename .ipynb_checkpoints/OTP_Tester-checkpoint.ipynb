{
 "cells": [
  {
   "cell_type": "markdown",
   "metadata": {},
   "source": [
    "Notebook to test OTP configuration.\n",
    "Written by Vivek\n",
    "Started July 7th, 2016\n",
    "\n",
    "We need to test the different parameters like bike and walk, etc.  Build functions that test numerous locations, settings, and generate times.\n",
    "\n",
    "Current\n",
    "TODO: Geocode Addresses into GPS using Google\n",
    "TODO: Push resulting data into pandas dataframe"
   ]
  },
  {
   "cell_type": "code",
   "execution_count": null,
   "metadata": {
    "collapsed": true
   },
   "outputs": [],
   "source": []
  },
  {
   "cell_type": "code",
   "execution_count": null,
   "metadata": {
    "collapsed": true
   },
   "outputs": [],
   "source": [
    "import requests\n",
    "import json\n",
    "import pandas as pd"
   ]
  },
  {
   "cell_type": "markdown",
   "metadata": {},
   "source": [
    "Sample Api Call:\n",
    "http://vta2.amigocloud.com/api/otp/plan?date=2016-07-07&time=23%3A0&mode=WALK%2CBUSISH%2CTRAINISH&fromPlace=37.389268%2C-121.879746&toPlace=37.4031595%2C-121.9865994&numItineraries=3&maxWalkDistance=5000&bikeSpeed=10&walkReluctance=10&maxTransfers=5&triangleSlopeFactor=0.333&triangleSafetyFactor=0.333&triangleTimeFactor=0.334&optimize=TRIANGLE&arriveBy=false"
   ]
  },
  {
   "cell_type": "code",
   "execution_count": 78,
   "metadata": {
    "collapsed": false
   },
   "outputs": [],
   "source": [
    "visual = False"
   ]
  },
  {
   "cell_type": "code",
   "execution_count": 85,
   "metadata": {
    "collapsed": false
   },
   "outputs": [],
   "source": [
    "def query_string(visual = False):\n",
    "    \n",
    "    base = 'http://vta2.amigocloud.com'\n",
    "    api = '/api/otp/plan?'\n",
    "    date = 'date=2016-07-07'\n",
    "    time = '&time=23%3A0'\n",
    "    mode = '&mode=WALK%2CBUSISH%2CTRAINISH'\n",
    "    start = '&fromPlace=37.389268%2C-121.879746'\n",
    "    dest = '&toPlace=37.4031595%2C-121.9865994'\n",
    "    num_iter = '&numItineraries=3'\n",
    "    walk = '&maxWalkDistance=5000&'\n",
    "    bike = 'bikeSpeed=10'\n",
    "    walk_reluc = '&walkReluctance=10'\n",
    "    max_tran = '&maxTransfers=5'\n",
    "    triangle = '&triangleSlopeFactor=0.333&triangleSafetyFactor=0.333&triangleTimeFactor=0.334&optimize=TRIANGLE'\n",
    "    arriveby = '&arriveBy=false'\n",
    "    if visual == True:\n",
    "        api = 'planner?'\n",
    "        query = base + api + date + time + mode + start + dest + num_iter + walk + bike + walk_reluc + max_tran + triangle + arriveby\n",
    "    else:\n",
    "        query = base + api + date + time + mode + start + dest + num_iter + walk + bike + walk_reluc + max_tran + triangle + arriveby\n",
    "\n",
    "    return query"
   ]
  },
  {
   "cell_type": "code",
   "execution_count": 62,
   "metadata": {
    "collapsed": false
   },
   "outputs": [],
   "source": [
    "query = query_string()"
   ]
  },
  {
   "cell_type": "code",
   "execution_count": 74,
   "metadata": {
    "collapsed": false
   },
   "outputs": [
    {
     "data": {
      "text/plain": [
       "'http://vta2.amigocloud.com/api/otp/plan?date=2016-07-07&time=23%3A0&mode=WALK%2CBUSISH%2CTRAINISH&fromPlace=37.389268%2C-121.879746&toPlace=37.4031595%2C-121.9865994&numItineraries=3&maxWalkDistance=5000&bikeSpeed=10&walkReluctance=10&maxTransfers=5&triangleSlopeFactor=0.333&triangleSafetyFactor=0.333&triangleTimeFactor=0.334&optimize=TRIANGLE&arriveBy=false'"
      ]
     },
     "execution_count": 74,
     "metadata": {},
     "output_type": "execute_result"
    }
   ],
   "source": [
    "query"
   ]
  },
  {
   "cell_type": "code",
   "execution_count": 63,
   "metadata": {
    "collapsed": true
   },
   "outputs": [],
   "source": [
    "r = requests.get(query)"
   ]
  },
  {
   "cell_type": "code",
   "execution_count": 64,
   "metadata": {
    "collapsed": false
   },
   "outputs": [
    {
     "data": {
      "text/plain": [
       "'{\"requestParameters\":{\"date\":\"2016-07-07\",\"walkReluctance\":\"10\",\"triangleTimeFactor\":\"0.334\",\"fromPlace\":\"37.389268,-121.879746\",\"maxWalkDistance\":\"5000\",\"maxTransfers\":\"5\",\"numItineraries\":\"3\",\"bikeSpeed\":\"10\",\"triangleSlopeFactor\":\"0.333\",\"mode\":\"WALK,BUSISH,TRAINISH\",\"arriveBy\":\"false\",\"optimize\":\"TRIANGLE\",\"toPlace\":\"37.4031595,-121.9865994\",\"time\":\"23:0\",\"triangleSafetyFactor\":\"0.333\"},\"plan\":{\"date\":1467957600000,\"from\":{\"name\":\"Autumn Gold Drive\",\"lon\":-121.87953025706994,\"lat\":37.38913219630366,\"orig\":\"\",\"vertexType\":\"NORMAL\"},\"to\":{\"name\":\"path\",\"lon\":-121.98660638012224,\"lat\":37.403159111672274,\"orig\":\"\",\"vertexType\":\"NORMAL\"},\"itineraries\":[{\"duration\":3833,\"startTime\":1467957891000,\"endTime\":1467961724000,\"walkTime\":734,\"transitTime\":1527,\"waitingTime\":1572,\"walkDistance\":929.6800075122466,\"walkLimitExceeded\":false,\"elevationLost\":0.0,\"elevationGained\":0.0,\"transfers\":2,\"fare\":{\"fare\":{\"regular\":{\"currency\":{\"symbol\":\"$\",\"currency\":\"USD\",\"defaultFractionDigits\":2,\"currencyCode\":\"USD\"},\"cents\":600}}},\"legs\":[{\"startTime\":1467957891000,\"endTime\":1467958157000,\"departureDelay\":0,\"arrivalDelay\":0,\"realTime\":false,\"distance\":344.814,\"pathway\":false,\"mode\":\"WALK\",\"route\":\"\",\"agencyTimeZoneOffset\":-25200000,\"interlineWithPreviousLeg\":false,\"from\":{\"name\":\"Autumn Gold Drive\",\"lon\":-121.87953025706994,\"lat\":37.38913219630366,\"departure\":1467957891000,\"orig\":\"\",\"vertexType\":\"NORMAL\"},\"to\":{\"name\":\"FLICKINGER & VILLAGETREE\",\"stopId\":\"VTA:3519\",\"stopCode\":\"63519\",\"lon\":-121.877991172,\"lat\":37.390055488,\"arrival\":1467958157000,\"departure\":1467958158000,\"zoneId\":\"1\",\"stopIndex\":47,\"stopSequence\":48,\"vertexType\":\"TRANSIT\"},\"legGeometry\":{\"points\":\"aqecFbr{fVkBkBSo@lC_CeAyBmArAa@b@\",\"length\":7},\"rentedBike\":false,\"transitLeg\":false,\"duration\":266.0,\"steps\":[{\"distance\":196.674,\"relativeDirection\":\"DEPART\",\"streetName\":\"Autumn Gold Drive\",\"absoluteDirection\":\"NORTHEAST\",\"stayOn\":false,\"area\":false,\"bogusName\":false,\"lon\":-121.87953025706994,\"lat\":37.38913219630366,\"elevation\":[]},{\"distance\":66.003,\"relativeDirection\":\"LEFT\",\"streetName\":\"Marcross Drive\",\"absoluteDirection\":\"NORTHEAST\",\"stayOn\":false,\"area\":false,\"bogusName\":false,\"lon\":-121.8781103,\"lat\":37.3890664,\"elevation\":[]},{\"distance\":82.137,\"relativeDirection\":\"LEFT\",\"streetName\":\"Flickinger Avenue\",\"absoluteDirection\":\"NORTHWEST\",\"stayOn\":false,\"area\":false,\"bogusName\":false,\"lon\":-121.8775048,\"lat\":37.3894141,\"elevation\":[]}]},{\"startTime\":1467958158000,\"endTime\":1467958380000,\"departureDelay\":0,\"arrivalDelay\":0,\"realTime\":false,\"distance\":1222.6495337271135,\"pathway\":false,\"mode\":\"BUS\",\"route\":\"70\",\"agencyName\":\"VTA\",\"agencyUrl\":\"http://www.vta.org\",\"agencyTimeZoneOffset\":-25200000,\"routeType\":3,\"routeId\":\"70\",\"interlineWithPreviousLeg\":false,\"tripBlockId\":\"4671\",\"headsign\":\"70 GREAT MALL\",\"agencyId\":\"VTA\",\"tripId\":\"2025490\",\"serviceDate\":\"20160707\",\"from\":{\"name\":\"FLICKINGER & VILLAGETREE\",\"stopId\":\"VTA:3519\",\"stopCode\":\"63519\",\"lon\":-121.877991172,\"lat\":37.390055488,\"arrival\":1467958157000,\"departure\":1467958158000,\"zoneId\":\"1\",\"stopIndex\":47,\"stopSequence\":48,\"vertexType\":\"TRANSIT\"},\"to\":{\"name\":\"HOSTETTER TRANSIT CENTER\",\"stopId\":\"VTA:5334\",\"stopCode\":\"65334\",\"lon\":-121.87019067,\"lat\":37.39448873,\"arrival\":1467958380000,\"departure\":1467958380000,\"zoneId\":\"1\",\"stopIndex\":51,\"stopSequence\":52,\"vertexType\":\"TRANSIT\"},\"legGeometry\":{\"points\":\"svecFvh{fVEHaA~@y@x@k@p@I?MAYIq@s@SQIIuAqAYW{@u@EEUY[]a@g@IMGMCCKQOYGM[g@a@q@[g@U_@g@y@EI[e@W_@IO{@uAg@y@Wa@MSU_@_@k@gAiBcDkFa@o@T_@FKBC\\\\\\\\i@p@eAT_@vAwBdBoCTT`@l@d@p@NTJRd@v@HJFDD@H?JAHGHGBM@KAMIMOAMBQDM?GAKCOEKSMS\",\"length\":76},\"routeShortName\":\"70\",\"routeLongName\":\"CAPITOL LRT STN - GREAT MALL/MAIN\",\"rentedBike\":false,\"transitLeg\":true,\"duration\":222.0,\"steps\":[]},{\"startTime\":1467958380000,\"endTime\":1467958456000,\"departureDelay\":0,\"arrivalDelay\":0,\"realTime\":false,\"distance\":98.03999999999999,\"pathway\":false,\"mode\":\"WALK\",\"route\":\"\",\"agencyTimeZoneOffset\":-25200000,\"interlineWithPreviousLeg\":false,\"from\":{\"name\":\"HOSTETTER TRANSIT CENTER\",\"stopId\":\"VTA:5334\",\"stopCode\":\"65334\",\"lon\":-121.87019067,\"lat\":37.39448873,\"arrival\":1467958380000,\"departure\":1467958380000,\"zoneId\":\"1\",\"stopIndex\":51,\"stopSequence\":52,\"vertexType\":\"TRANSIT\"},\"to\":{\"name\":\"HOSTETTER STATION (1)\",\"stopId\":\"VTA:5247\",\"stopCode\":\"65247\",\"lon\":-121.86962911,\"lat\":37.39511599,\"arrival\":1467958456000,\"departure\":1467958740000,\"zoneId\":\"1\",\"stopIndex\":4,\"stopSequence\":5,\"vertexType\":\"TRANSIT\"},\"legGeometry\":{\"points\":\"irfcFnwyfVMUU_@w@gAYb@\",\"length\":5},\"rentedBike\":false,\"transitLeg\":false,\"duration\":76.0,\"steps\":[{\"distance\":98.03999999999999,\"relativeDirection\":\"DEPART\",\"streetName\":\"HOSTETTER TRANSIT CENTER => HOSTETTER STATION (1)\",\"absoluteDirection\":\"NORTHEAST\",\"stayOn\":false,\"area\":false,\"bogusName\":false,\"lon\":-121.87019067,\"lat\":37.39448873,\"elevation\":[]}]},{\"startTime\":1467958740000,\"endTime\":1467959445000,\"departureDelay\":0,\"arrivalDelay\":0,\"realTime\":false,\"distance\":7169.289251131625,\"pathway\":false,\"mode\":\"TRAM\",\"route\":\"901\",\"agencyName\":\"VTA\",\"agencyUrl\":\"http://www.vta.org\",\"agencyTimeZoneOffset\":-25200000,\"routeColor\":\"008FD5\",\"routeType\":0,\"routeId\":\"901\",\"routeTextColor\":\"000000\",\"interlineWithPreviousLeg\":false,\"tripBlockId\":\"9004\",\"headsign\":\"SANTA TERESA\",\"agencyId\":\"VTA\",\"tripId\":\"2031757\",\"serviceDate\":\"20160707\",\"from\":{\"name\":\"HOSTETTER STATION (1)\",\"stopId\":\"VTA:5247\",\"stopCode\":\"65247\",\"lon\":-121.86962911,\"lat\":37.39511599,\"arrival\":1467958456000,\"departure\":1467958740000,\"zoneId\":\"1\",\"stopIndex\":4,\"stopSequence\":5,\"vertexType\":\"TRANSIT\"},\"to\":{\"name\":\"BAYPOINTE STATION (1)\",\"stopId\":\"VTA:4806\",\"stopCode\":\"64806\",\"lon\":-121.942316918,\"lat\":37.410531278,\"arrival\":1467959445000,\"departure\":1467959445000,\"zoneId\":\"1\",\"stopIndex\":10,\"stopSequence\":11,\"vertexType\":\"TRANSIT\"},\"legGeometry\":{\"points\":\"svfcF`tyfV_BjCoCjEsBdDwA|Bo@fAiCtE{CpFcB|CmEhIyB`Eq@pAg@|@OVo@`A[b@W`@Yd@Wd@e@z@yAnCeAlBcB~C??eArB}@hBk@hAm@jAkAxBuA~BmAtBkBdDo@jAqA~BmAzBYj@Uj@k@rAm@|AkAtC?@sAjDaBjE{@|BqAhDs@jBmAdDu@nBm@`BcAhC{BxFk@pA_@|@Ul@[r@Sf@kA`C_@t@g@bAm@jA??S^}AdD[r@Yn@Wx@Qr@On@Mt@K`AE|@EdACjA?fACrCAtBAhAAbCAjCCfC?jA?lA?`@Bv@D`AHhANpAj@|DZjBP`AZxAT`AVx@Zv@Zv@d@x@\\\\\\\\h@^h@h@n@j@p@j@r@p@x@??p@v@`BtBV\\\\\\\\V`@Vh@f@`ATl@JXNd@ZhAP~@N|@J|@BVB`@JdBHxCBfA?dA?r@Ej@Ep@Er@Ip@O`AKf@Mf@U~@_@~Ae@dBw@tCq@nCa@zASz@??}AhG[zAQfAGn@Ej@Cj@At@?x@?n@Bh@Fh@JfAL`Ar@nFRtAZ~B\\\\\\\\hCJt@`@~CHl@Jl@Hb@Nl@Nd@^bAj@|Az@~Bh@tAFRDRH^b@jAb@nAb@hA\",\"length\":172},\"routeShortName\":\"901\",\"routeLongName\":\"ALUM ROCK-SANTA TERESA VIA BAYPOINT\",\"rentedBike\":false,\"transitLeg\":true,\"duration\":705.0,\"steps\":[]},{\"startTime\":1467959445000,\"endTime\":1467959494000,\"departureDelay\":0,\"arrivalDelay\":0,\"realTime\":false,\"distance\":62.432,\"pathway\":false,\"mode\":\"WALK\",\"route\":\"\",\"agencyTimeZoneOffset\":-25200000,\"interlineWithPreviousLeg\":false,\"from\":{\"name\":\"BAYPOINTE STATION (1)\",\"stopId\":\"VTA:4806\",\"stopCode\":\"64806\",\"lon\":-121.942316918,\"lat\":37.410531278,\"arrival\":1467959445000,\"departure\":1467959445000,\"zoneId\":\"1\",\"stopIndex\":10,\"stopSequence\":11,\"vertexType\":\"TRANSIT\"},\"to\":{\"name\":\"TASMAN & BAYPOINTE\",\"stopId\":\"VTA:1366\",\"stopCode\":\"61366\",\"lon\":-121.941803003,\"lat\":37.410942075,\"arrival\":1467959494000,\"departure\":1467960780000,\"zoneId\":\"1\",\"stopIndex\":0,\"stopSequence\":1,\"vertexType\":\"TRANSIT\"},\"legGeometry\":{\"points\":\"gwicFzzggVy@yB\",\"length\":2},\"rentedBike\":false,\"transitLeg\":false,\"duration\":49.0,\"steps\":[{\"distance\":62.432,\"relativeDirection\":\"DEPART\",\"streetName\":\"BAYPOINTE STATION (1) => TASMAN & BAYPOINTE\",\"absoluteDirection\":\"NORTHEAST\",\"stayOn\":false,\"area\":false,\"bogusName\":false,\"lon\":-121.942316918,\"lat\":37.410531278,\"elevation\":[]}]},{\"startTime\":1467960780000,\"endTime\":1467961380000,\"departureDelay\":0,\"arrivalDelay\":0,\"realTime\":false,\"distance\":4352.927419130857,\"pathway\":false,\"mode\":\"BUS\",\"route\":\"200\",\"agencyName\":\"VTA\",\"agencyUrl\":\"http://www.vta.org\",\"agencyTimeZoneOffset\":-25200000,\"routeType\":3,\"routeId\":\"200\",\"interlineWithPreviousLeg\":false,\"tripBlockId\":\"4671\",\"headsign\":\"200 MOUNTAIN VIEW\",\"agencyId\":\"VTA\",\"tripId\":\"2021203\",\"serviceDate\":\"20160707\",\"from\":{\"name\":\"TASMAN & BAYPOINTE\",\"stopId\":\"VTA:1366\",\"stopCode\":\"61366\",\"lon\":-121.941803003,\"lat\":37.410942075,\"arrival\":1467959494000,\"departure\":1467960780000,\"zoneId\":\"1\",\"stopIndex\":0,\"stopSequence\":1,\"vertexType\":\"TRANSIT\"},\"to\":{\"name\":\"TASMAN & REAMWOOD\",\"stopId\":\"VTA:2365\",\"stopCode\":\"62365\",\"lon\":-121.988915618,\"lat\":37.403664517,\"arrival\":1467961380000,\"departure\":1467961381000,\"zoneId\":\"1\",\"stopIndex\":6,\"stopSequence\":7,\"vertexType\":\"TRANSIT\"},\"legGeometry\":{\"points\":\"eyicFfwggVzA`EtAvC`@t@d@bAZx@^dAFPHVf@rADLjAxCfAdD`@tARdAJr@Dz@B~AAj@CVIfAQpAOl@]fA_@`AcAnBcDlGe@|@{CxFo@nASb@O`@[`AOp@ENMt@Gx@El@Af@AbA@`@D~@Dj@@R@HPbAJf@Ph@Rl@Vp@Zn@d@t@j@p@Z\\\\\\\\XV\\\\\\\\XXN~B|Ap@h@Z`@h@z@DFLTJZHRJZV|@|@xCRr@d@nB~ChKTt@FTL`@L`@Rh@Lf@X|@r@vBjCxHL\\\\\\\\|BnGRl@X|@Tx@`@jB`@tBJv@Dh@X`DLtB@~@DxBBz@BvC?`C@d@@xBDpH@d@AjCAhIIfCUrD?n@KvAAh@?^@tB?pD@J?J?F?H@z@?pBBnD?dA\",\"length\":118},\"routeShortName\":\"200\",\"routeLongName\":\"BAYPOINTE LRT - MOUNTAIN VIEW LRT\",\"rentedBike\":false,\"transitLeg\":true,\"duration\":600.0,\"steps\":[]},{\"startTime\":1467961381000,\"endTime\":1467961724000,\"departureDelay\":0,\"arrivalDelay\":0,\"realTime\":false,\"distance\":424.19100000000003,\"pathway\":false,\"mode\":\"WALK\",\"route\":\"\",\"agencyTimeZoneOffset\":-25200000,\"interlineWithPreviousLeg\":false,\"from\":{\"name\":\"TASMAN & REAMWOOD\",\"stopId\":\"VTA:2365\",\"stopCode\":\"62365\",\"lon\":-121.988915618,\"lat\":37.403664517,\"arrival\":1467961380000,\"departure\":1467961381000,\"zoneId\":\"1\",\"stopIndex\":6,\"stopSequence\":7,\"vertexType\":\"TRANSIT\"},\"to\":{\"name\":\"path\",\"lon\":-121.98660638012224,\"lat\":37.403159111672274,\"arrival\":1467961724000,\"orig\":\"\",\"vertexType\":\"NORMAL\"},\"legGeometry\":{\"points\":\"skhcFv}pgVAeAL?F?P?CgFA_BAiA?KfE?e@JaAF_@@\",\"length\":13},\"rentedBike\":false,\"transitLeg\":false,\"duration\":343.0,\"steps\":[{\"distance\":235.731,\"relativeDirection\":\"DEPART\",\"streetName\":\"West Tasman Drive\",\"absoluteDirection\":\"EAST\",\"stayOn\":false,\"area\":false,\"bogusName\":false,\"lon\":-121.98891496940756,\"lat\":37.403628967348276,\"elevation\":[]},{\"distance\":111.295,\"relativeDirection\":\"RIGHT\",\"streetName\":\"bike path\",\"absoluteDirection\":\"SOUTH\",\"stayOn\":false,\"area\":false,\"bogusName\":true,\"lon\":-121.9864902,\"lat\":37.4034731,\"elevation\":[]},{\"distance\":77.165,\"relativeDirection\":\"HARD_RIGHT\",\"streetName\":\"path\",\"absoluteDirection\":\"NORTH\",\"stayOn\":false,\"area\":false,\"bogusName\":false,\"lon\":-121.9864914,\"lat\":37.4024722,\"elevation\":[]}]}],\"tooSloped\":false},{\"duration\":7268,\"startTime\":1467958433000,\"endTime\":1467965701000,\"walkTime\":4626,\"transitTime\":2640,\"waitingTime\":2,\"walkDistance\":5993.886939837494,\"walkLimitExceeded\":false,\"elevationLost\":0.0,\"elevationGained\":0.0,\"transfers\":0,\"fare\":{\"fare\":{\"regular\":{\"currency\":{\"symbol\":\"$\",\"currency\":\"USD\",\"defaultFractionDigits\":2,\"currencyCode\":\"USD\"},\"cents\":200}}},\"legs\":[{\"startTime\":1467958433000,\"endTime\":1467959639000,\"departureDelay\":0,\"arrivalDelay\":0,\"realTime\":false,\"distance\":1561.2639999999997,\"pathway\":false,\"mode\":\"WALK\",\"route\":\"\",\"agencyTimeZoneOffset\":-25200000,\"interlineWithPreviousLeg\":false,\"from\":{\"name\":\"Autumn Gold Drive\",\"lon\":-121.87953025706994,\"lat\":37.38913219630366,\"departure\":1467958433000,\"orig\":\"\",\"vertexType\":\"NORMAL\"},\"to\":{\"name\":\"HOSTETTER STATION (0)\",\"stopId\":\"VTA:5238\",\"stopCode\":\"65238\",\"lon\":-121.87028961,\"lat\":37.39564878,\"arrival\":1467959639000,\"departure\":1467959640000,\"zoneId\":\"1\",\"stopIndex\":31,\"stopSequence\":33,\"vertexType\":\"TRANSIT\"},\"legGeometry\":{\"points\":\"aqecFbr{fVkBkBSo@lC_CeAyBmArAa@b@u@z@IHCBkAnA[@UFK@SCu@s@WU{AwA_BsAcAmA}AkCGKEIu@oAgAcBs@kAkGeKgEwGMUCEMS~B{D`A_B\",\"length\":33},\"rentedBike\":false,\"transitLeg\":false,\"duration\":1206.0,\"steps\":[{\"distance\":196.674,\"relativeDirection\":\"DEPART\",\"streetName\":\"Autumn Gold Drive\",\"absoluteDirection\":\"NORTHEAST\",\"stayOn\":false,\"area\":false,\"bogusName\":false,\"lon\":-121.87953025706994,\"lat\":37.38913219630366,\"elevation\":[]},{\"distance\":66.003,\"relativeDirection\":\"LEFT\",\"streetName\":\"Marcross Drive\",\"absoluteDirection\":\"NORTHEAST\",\"stayOn\":false,\"area\":false,\"bogusName\":false,\"lon\":-121.8781103,\"lat\":37.3890664,\"elevation\":[]},{\"distance\":186.855,\"relativeDirection\":\"LEFT\",\"streetName\":\"Flickinger Avenue\",\"absoluteDirection\":\"NORTHWEST\",\"stayOn\":false,\"area\":false,\"bogusName\":false,\"lon\":-121.8775048,\"lat\":37.3894141,\"elevation\":[]},{\"distance\":46.492,\"relativeDirection\":\"SLIGHTLY_RIGHT\",\"streetName\":\"link\",\"absoluteDirection\":\"NORTH\",\"stayOn\":false,\"area\":false,\"bogusName\":true,\"lon\":-121.8788714,\"lat\":37.3906966,\"elevation\":[]},{\"distance\":899.9490000000001,\"relativeDirection\":\"SLIGHTLY_RIGHT\",\"streetName\":\"Hostetter Road\",\"absoluteDirection\":\"NORTHEAST\",\"stayOn\":false,\"area\":false,\"bogusName\":false,\"lon\":-121.8789148,\"lat\":37.3911092,\"elevation\":[]},{\"distance\":165.291,\"relativeDirection\":\"RIGHT\",\"streetName\":\"North Capitol Avenue\",\"absoluteDirection\":\"SOUTHEAST\",\"stayOn\":false,\"area\":false,\"bogusName\":false,\"lon\":-121.8716133,\"lat\":37.3967063,\"elevation\":[]}]},{\"startTime\":1467959640000,\"endTime\":1467960240000,\"departureDelay\":0,\"arrivalDelay\":0,\"realTime\":false,\"distance\":5367.47876462498,\"pathway\":false,\"mode\":\"TRAM\",\"route\":\"901\",\"agencyName\":\"VTA\",\"agencyUrl\":\"http://www.vta.org\",\"agencyTimeZoneOffset\":-25200000,\"routeColor\":\"008FD5\",\"routeType\":0,\"routeId\":\"901\",\"routeTextColor\":\"000000\",\"interlineWithPreviousLeg\":false,\"tripBlockId\":\"9007\",\"headsign\":\"ALUM ROCK\",\"agencyId\":\"VTA\",\"tripId\":\"2031685\",\"serviceDate\":\"20160707\",\"from\":{\"name\":\"HOSTETTER STATION (0)\",\"stopId\":\"VTA:5238\",\"stopCode\":\"65238\",\"lon\":-121.87028961,\"lat\":37.39564878,\"arrival\":1467959639000,\"departure\":1467959640000,\"zoneId\":\"1\",\"stopIndex\":31,\"stopSequence\":33,\"vertexType\":\"TRANSIT\"},\"to\":{\"name\":\"ALUM ROCK STATION (0)\",\"stopId\":\"VTA:5242\",\"stopCode\":\"65242\",\"lon\":-121.83212036,\"lat\":37.35813414,\"arrival\":1467960240000,\"departure\":1467960840000,\"zoneId\":\"1\",\"stopIndex\":35,\"stopSequence\":37,\"vertexType\":\"TRANSIT\"},\"legGeometry\":{\"points\":\"uyfcFlxyfV@?~AmC~@}Ar@sAv@qA`@g@z@w@r@q@zAuA`CyBfE{Dl@k@`AaA`DgDjEqEtE}EpBwB@?vHgIbDsDxF}GvFuGtHsI??tHyIjDyDjEeFrDeElAqArA_BjAiAtAsAzB{BhAiAp@o@~A}AjCiCrHkHdH_H|A_BxByBzByBtAqA|A_BdAkAh@k@vCyCvCuClBkBhBgB|E{ErBsB~BwB~@y@l@i@n@a@l@_@tEsCt@c@jAq@nAy@j@]\",\"length\":63},\"routeShortName\":\"901\",\"routeLongName\":\"ALUM ROCK-SANTA TERESA VIA BAYPOINT\",\"rentedBike\":false,\"transitLeg\":true,\"duration\":600.0,\"steps\":[]},{\"startTime\":1467960840000,\"endTime\":1467962280000,\"departureDelay\":0,\"arrivalDelay\":0,\"realTime\":false,\"distance\":12739.949325369904,\"pathway\":false,\"mode\":\"TRAM\",\"route\":\"901\",\"agencyName\":\"VTA\",\"agencyUrl\":\"http://www.vta.org\",\"agencyTimeZoneOffset\":-25200000,\"routeColor\":\"008FD5\",\"routeType\":0,\"routeId\":\"901\",\"routeTextColor\":\"000000\",\"interlineWithPreviousLeg\":true,\"tripBlockId\":\"9007\",\"headsign\":\"SANTA TERESA\",\"agencyId\":\"VTA\",\"tripId\":\"2031756\",\"serviceDate\":\"20160707\",\"from\":{\"name\":\"ALUM ROCK STATION (1)\",\"stopId\":\"VTA:5243\",\"stopCode\":\"65243\",\"lon\":-121.832239,\"lat\":37.358369,\"arrival\":1467960240000,\"departure\":1467960840000,\"zoneId\":\"1\",\"stopIndex\":0,\"stopSequence\":1,\"vertexType\":\"TRANSIT\"},\"to\":{\"name\":\"TASMAN STATION (1)\",\"stopId\":\"VTA:4762\",\"stopCode\":\"64762\",\"lon\":-121.943997756,\"lat\":37.408055891,\"arrival\":1467962280000,\"departure\":1467962281000,\"zoneId\":\"1\",\"stopIndex\":11,\"stopSequence\":12,\"vertexType\":\"TRANSIT\"},\"legGeometry\":{\"points\":\"yp_cFljrfV{CjBu@b@uErCm@^o@`@m@h@_Ax@_CvBsBrB}EzEiBfBmBjBwCtCwCxCi@j@eAjA}A~AuApA{BxByBxB}A~AeH~GsHjHA@iCfC_B|Aq@n@iAhA{BzBuArAkAhAsA~AmApAsDdEkEdFkDxDuHxIeExEoBxBwFtGyF|GcDrDwHfIsBvBuE|EA@iEnEaDfDaA`Am@j@gEzDaCxB{AtAs@p@{@v@a@f@w@pAs@rA_A|A?@_BjCoCjEsBdDwA|Bo@fAiCtE{CpFcB|CmEhIyB`Eq@pAg@|@OVo@`A[b@W`@Yd@Wd@e@z@yAnCeAlBcB~C??eArB}@hBk@hAm@jAkAxBuA~BmAtBkBdDo@jAqA~BmAzBYj@Uj@k@rAm@|AkAtC?@sAjDaBjE{@|BqAhDs@jBmAdDu@nBm@`BcAhC{BxFk@pA_@|@Ul@[r@Sf@kA`C_@t@g@bAm@jA??S^}AdD[r@Yn@Wx@Qr@On@Mt@K`AE|@EdACjA?fACrCAtBAhAAbCAjCCfC?jA?lA?`@Bv@D`AHhANpAj@|DZjBP`AZxAT`AVx@Zv@Zv@d@x@\\\\\\\\h@^h@h@n@j@p@j@r@p@x@??p@v@`BtBV\\\\\\\\V`@Vh@f@`ATl@JXNd@ZhAP~@N|@J|@BVB`@JdBHxCBfA?dA?r@Ej@Ep@Er@Ip@O`AKf@Mf@U~@_@~Ae@dBw@tCq@nCa@zASz@??}AhG[zAQfAGn@Ej@Cj@At@?x@?n@Bh@Fh@JfAL`Ar@nFRtAZ~B\\\\\\\\hCJt@`@~CHl@Jl@Hb@Nl@Nd@^bAj@|Az@~Bh@tAFRDRH^b@jAb@nAb@hA?@d@lApApCzAbEZp@FHF@N@VGZMSPRQf@[zB}A\",\"length\":246},\"routeShortName\":\"901\",\"routeLongName\":\"ALUM ROCK-SANTA TERESA VIA BAYPOINT\",\"rentedBike\":false,\"transitLeg\":true,\"duration\":1440.0,\"steps\":[]},{\"startTime\":1467962281000,\"endTime\":1467965701000,\"departureDelay\":0,\"arrivalDelay\":0,\"realTime\":false,\"distance\":4432.247,\"pathway\":false,\"mode\":\"WALK\",\"route\":\"\",\"agencyTimeZoneOffset\":-25200000,\"interlineWithPreviousLeg\":false,\"from\":{\"name\":\"TASMAN STATION (1)\",\"stopId\":\"VTA:4762\",\"stopCode\":\"64762\",\"lon\":-121.943997756,\"lat\":37.408055891,\"arrival\":1467962280000,\"departure\":1467962281000,\"zoneId\":\"1\",\"stopIndex\":11,\"stopSequence\":12,\"vertexType\":\"TRANSIT\"},\"to\":{\"name\":\"path\",\"lon\":-121.98660638012224,\"lat\":37.403159111672274,\"arrival\":1467965701000,\"orig\":\"\",\"vertexType\":\"NORMAL\"},\"legGeometry\":{\"points\":\"_gicFtehgV_@Vi@^k@^EBoAz@IFDJpBrFHTx@xBPj@Pl@Lp@FZDTFt@Fp@@n@??@l@Aj@Ab@C^Ep@Ip@G^S~@Qn@Sn@Wj@Wf@uAlC_@p@OX}@fBQXoA`CwCzFUb@Qf@Qh@Of@Kf@Ih@G`@C^Cb@Cd@?JAZ@n@?^Dv@Dh@Hd@F`@J`@Lf@FT@Bh@vATd@Vb@X^VZb@b@f@`@pAv@bAn@\\\\\\\\T\\\\\\\\TTXZ`@TZJPLRXj@BFJVFTBFv@rCDNFT|@jDl@zBNn@Nj@VdAV`AV|@~@vCb@tAVx@Rh@Rd@Rf@N`@N^v@vBj@~AL\\\\\\\\x@~Bj@~AVv@Tp@Rv@J^HXNr@Pt@Nt@VvAHd@Hj@Jn@Ht@H|@H~@?@FpA@V@P@N@j@?f@@JBvD?L?fDAb@@hE?@?zB?F?`A?T?b@?n@CrBAp@EpEAj@Ah@Af@?h@Cl@Aj@ARATE`AEj@GdBAl@Ar@Ax@?tA?xAfE?e@JaAF_@@\",\"length\":163},\"rentedBike\":false,\"transitLeg\":false,\"duration\":3420.0,\"steps\":[{\"distance\":138.685,\"relativeDirection\":\"DEPART\",\"streetName\":\"North 1st Street\",\"absoluteDirection\":\"NORTHWEST\",\"stayOn\":false,\"area\":false,\"bogusName\":false,\"lon\":-121.94410992887806,\"lat\":37.40800241301515,\"elevation\":[]},{\"distance\":4105.101999999999,\"relativeDirection\":\"LEFT\",\"streetName\":\"West Tasman Drive\",\"absoluteDirection\":\"SOUTHWEST\",\"stayOn\":false,\"area\":false,\"bogusName\":false,\"lon\":-121.9449035,\"lat\":37.4090786,\"elevation\":[]},{\"distance\":111.295,\"relativeDirection\":\"LEFT\",\"streetName\":\"bike path\",\"absoluteDirection\":\"SOUTH\",\"stayOn\":false,\"area\":false,\"bogusName\":true,\"lon\":-121.9864902,\"lat\":37.4034731,\"elevation\":[]},{\"distance\":77.165,\"relativeDirection\":\"HARD_RIGHT\",\"streetName\":\"path\",\"absoluteDirection\":\"NORTH\",\"stayOn\":false,\"area\":false,\"bogusName\":false,\"lon\":-121.9864914,\"lat\":37.4024722,\"elevation\":[]}]}],\"tooSloped\":false}]},\"debugOutput\":{\"precalculationTime\":22,\"pathCalculationTime\":771,\"pathTimes\":[7,579],\"renderingTime\":0,\"totalTime\":793,\"timedOut\":false}}'"
      ]
     },
     "execution_count": 64,
     "metadata": {},
     "output_type": "execute_result"
    }
   ],
   "source": [
    "r.text"
   ]
  },
  {
   "cell_type": "code",
   "execution_count": 65,
   "metadata": {
    "collapsed": false
   },
   "outputs": [],
   "source": [
    "query_json = json.loads(r.text)"
   ]
  },
  {
   "cell_type": "code",
   "execution_count": 66,
   "metadata": {
    "collapsed": false
   },
   "outputs": [
    {
     "data": {
      "text/plain": [
       "'http://docs.python-guide.org/en/latest/scenarios/json/'"
      ]
     },
     "execution_count": 66,
     "metadata": {},
     "output_type": "execute_result"
    }
   ],
   "source": [
    "'http://docs.python-guide.org/en/latest/scenarios/json/'"
   ]
  },
  {
   "cell_type": "code",
   "execution_count": 67,
   "metadata": {
    "collapsed": false
   },
   "outputs": [
    {
     "data": {
      "text/plain": [
       "{'pathCalculationTime': 771,\n",
       " 'pathTimes': [7, 579],\n",
       " 'precalculationTime': 22,\n",
       " 'renderingTime': 0,\n",
       " 'timedOut': False,\n",
       " 'totalTime': 793}"
      ]
     },
     "execution_count": 67,
     "metadata": {},
     "output_type": "execute_result"
    }
   ],
   "source": [
    "query_json['debugOutput']"
   ]
  },
  {
   "cell_type": "code",
   "execution_count": 68,
   "metadata": {
    "collapsed": false
   },
   "outputs": [],
   "source": [
    "times= query_json['debugOutput']['pathTimes']"
   ]
  },
  {
   "cell_type": "code",
   "execution_count": 69,
   "metadata": {
    "collapsed": false
   },
   "outputs": [
    {
     "data": {
      "text/plain": [
       "[7, 579]"
      ]
     },
     "execution_count": 69,
     "metadata": {},
     "output_type": "execute_result"
    }
   ],
   "source": [
    "times"
   ]
  },
  {
   "cell_type": "code",
   "execution_count": 73,
   "metadata": {
    "collapsed": false
   },
   "outputs": [
    {
     "data": {
      "text/plain": [
       "2"
      ]
     },
     "execution_count": 73,
     "metadata": {},
     "output_type": "execute_result"
    }
   ],
   "source": [
    "len(times)"
   ]
  },
  {
   "cell_type": "code",
   "execution_count": null,
   "metadata": {
    "collapsed": true
   },
   "outputs": [],
   "source": []
  }
 ],
 "metadata": {
  "kernelspec": {
   "display_name": "Python 3",
   "language": "python",
   "name": "python3"
  },
  "language_info": {
   "codemirror_mode": {
    "name": "ipython",
    "version": 3
   },
   "file_extension": ".py",
   "mimetype": "text/x-python",
   "name": "python",
   "nbconvert_exporter": "python",
   "pygments_lexer": "ipython3",
   "version": "3.5.1"
  }
 },
 "nbformat": 4,
 "nbformat_minor": 0
}
